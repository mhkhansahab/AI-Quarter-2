{
 "cells": [
  {
   "cell_type": "code",
   "execution_count": 1,
   "metadata": {},
   "outputs": [
    {
     "name": "stdout",
     "output_type": "stream",
     "text": [
      "[1, 2, 3, 4, 1, 2, 3, 4]\n",
      "[2 4 6 8]\n"
     ]
    }
   ],
   "source": [
    "import numpy as np\n",
    "list = [1, 2, 3, 4]\n",
    "npList = np.array(list)\n",
    "list = list * 2\n",
    "npList = npList * 2\n",
    "print(list)\n",
    "print(npList)"
   ]
  },
  {
   "cell_type": "code",
   "execution_count": 2,
   "metadata": {},
   "outputs": [
    {
     "name": "stdout",
     "output_type": "stream",
     "text": [
      "[[0. 0. 0. 0.]\n",
      " [0. 0. 0. 0.]\n",
      " [0. 0. 0. 0.]\n",
      " [0. 0. 0. 0.]\n",
      " [0. 0. 0. 0.]]\n"
     ]
    }
   ],
   "source": [
    "a = np.zeros((5,4))\n",
    "print(a)"
   ]
  },
  {
   "cell_type": "code",
   "execution_count": 3,
   "metadata": {},
   "outputs": [
    {
     "name": "stdout",
     "output_type": "stream",
     "text": [
      "2\n"
     ]
    }
   ],
   "source": [
    "#2 dimensional array using tuple\n",
    "a = np.zeros((5,4))\n",
    "print(a.ndim)"
   ]
  },
  {
   "cell_type": "code",
   "execution_count": 49,
   "metadata": {},
   "outputs": [
    {
     "name": "stdout",
     "output_type": "stream",
     "text": [
      "[1. 1. 1.]\n"
     ]
    }
   ],
   "source": [
    "# 1 dimensional array\n",
    "b = np.ones(3)\n",
    "print(b)"
   ]
  },
  {
   "cell_type": "code",
   "execution_count": 4,
   "metadata": {},
   "outputs": [
    {
     "name": "stdout",
     "output_type": "stream",
     "text": [
      "[0. 0. 0.]\n"
     ]
    }
   ],
   "source": [
    "c = np.empty(3)\n",
    "print(c)"
   ]
  },
  {
   "cell_type": "code",
   "execution_count": 5,
   "metadata": {},
   "outputs": [
    {
     "name": "stdout",
     "output_type": "stream",
     "text": [
      "[0 1 2 3 4]\n"
     ]
    }
   ],
   "source": [
    "d = np.arange(5)\n",
    "print(d)"
   ]
  },
  {
   "cell_type": "code",
   "execution_count": 6,
   "metadata": {},
   "outputs": [
    {
     "name": "stdout",
     "output_type": "stream",
     "text": [
      "[[[[0. 0. 0. 0.]\n",
      "   [0. 0. 0. 0.]\n",
      "   [0. 0. 0. 0.]]\n",
      "\n",
      "  [[0. 0. 0. 0.]\n",
      "   [0. 0. 0. 0.]\n",
      "   [0. 0. 0. 0.]]]]\n"
     ]
    }
   ],
   "source": [
    "e = np.zeros([1,2,3,4])\n",
    "print(e)"
   ]
  },
  {
   "cell_type": "code",
   "execution_count": 7,
   "metadata": {},
   "outputs": [
    {
     "data": {
      "text/plain": [
       "4"
      ]
     },
     "execution_count": 7,
     "metadata": {},
     "output_type": "execute_result"
    }
   ],
   "source": [
    "e.ndim"
   ]
  },
  {
   "cell_type": "code",
   "execution_count": 8,
   "metadata": {},
   "outputs": [
    {
     "data": {
      "text/plain": [
       "dtype('float64')"
      ]
     },
     "execution_count": 8,
     "metadata": {},
     "output_type": "execute_result"
    }
   ],
   "source": [
    "e.dtype"
   ]
  },
  {
   "cell_type": "code",
   "execution_count": 10,
   "metadata": {},
   "outputs": [
    {
     "data": {
      "text/plain": [
       "(1, 2, 3, 4)"
      ]
     },
     "execution_count": 10,
     "metadata": {},
     "output_type": "execute_result"
    }
   ],
   "source": [
    "e.shape"
   ]
  },
  {
   "cell_type": "code",
   "execution_count": 9,
   "metadata": {},
   "outputs": [
    {
     "name": "stdout",
     "output_type": "stream",
     "text": [
      "[[0 0 0 0]\n",
      " [0 0 0 0]\n",
      " [0 0 0 0]\n",
      " [0 0 0 0]\n",
      " [0 0 0 0]]\n"
     ]
    }
   ],
   "source": [
    "a = np.zeros((5,4), dtype = np.int32)\n",
    "print(a)"
   ]
  },
  {
   "cell_type": "code",
   "execution_count": 11,
   "metadata": {},
   "outputs": [
    {
     "data": {
      "text/plain": [
       "dtype('int32')"
      ]
     },
     "execution_count": 11,
     "metadata": {},
     "output_type": "execute_result"
    }
   ],
   "source": [
    "a.dtype"
   ]
  },
  {
   "cell_type": "code",
   "execution_count": 13,
   "metadata": {},
   "outputs": [
    {
     "name": "stdout",
     "output_type": "stream",
     "text": [
      "[[[[[[[[0. 0. 0. 0.]\n",
      "       [0. 0. 0. 0.]\n",
      "       [0. 0. 0. 0.]]\n",
      "\n",
      "      [[0. 0. 0. 0.]\n",
      "       [0. 0. 0. 0.]\n",
      "       [0. 0. 0. 0.]]]]\n",
      "\n",
      "\n",
      "\n",
      "    [[[[0. 0. 0. 0.]\n",
      "       [0. 0. 0. 0.]\n",
      "       [0. 0. 0. 0.]]\n",
      "\n",
      "      [[0. 0. 0. 0.]\n",
      "       [0. 0. 0. 0.]\n",
      "       [0. 0. 0. 0.]]]]\n",
      "\n",
      "\n",
      "\n",
      "    [[[[0. 0. 0. 0.]\n",
      "       [0. 0. 0. 0.]\n",
      "       [0. 0. 0. 0.]]\n",
      "\n",
      "      [[0. 0. 0. 0.]\n",
      "       [0. 0. 0. 0.]\n",
      "       [0. 0. 0. 0.]]]]\n",
      "\n",
      "\n",
      "\n",
      "    [[[[0. 0. 0. 0.]\n",
      "       [0. 0. 0. 0.]\n",
      "       [0. 0. 0. 0.]]\n",
      "\n",
      "      [[0. 0. 0. 0.]\n",
      "       [0. 0. 0. 0.]\n",
      "       [0. 0. 0. 0.]]]]]\n",
      "\n",
      "\n",
      "\n",
      "\n",
      "   [[[[[0. 0. 0. 0.]\n",
      "       [0. 0. 0. 0.]\n",
      "       [0. 0. 0. 0.]]\n",
      "\n",
      "      [[0. 0. 0. 0.]\n",
      "       [0. 0. 0. 0.]\n",
      "       [0. 0. 0. 0.]]]]\n",
      "\n",
      "\n",
      "\n",
      "    [[[[0. 0. 0. 0.]\n",
      "       [0. 0. 0. 0.]\n",
      "       [0. 0. 0. 0.]]\n",
      "\n",
      "      [[0. 0. 0. 0.]\n",
      "       [0. 0. 0. 0.]\n",
      "       [0. 0. 0. 0.]]]]\n",
      "\n",
      "\n",
      "\n",
      "    [[[[0. 0. 0. 0.]\n",
      "       [0. 0. 0. 0.]\n",
      "       [0. 0. 0. 0.]]\n",
      "\n",
      "      [[0. 0. 0. 0.]\n",
      "       [0. 0. 0. 0.]\n",
      "       [0. 0. 0. 0.]]]]\n",
      "\n",
      "\n",
      "\n",
      "    [[[[0. 0. 0. 0.]\n",
      "       [0. 0. 0. 0.]\n",
      "       [0. 0. 0. 0.]]\n",
      "\n",
      "      [[0. 0. 0. 0.]\n",
      "       [0. 0. 0. 0.]\n",
      "       [0. 0. 0. 0.]]]]]\n",
      "\n",
      "\n",
      "\n",
      "\n",
      "   [[[[[0. 0. 0. 0.]\n",
      "       [0. 0. 0. 0.]\n",
      "       [0. 0. 0. 0.]]\n",
      "\n",
      "      [[0. 0. 0. 0.]\n",
      "       [0. 0. 0. 0.]\n",
      "       [0. 0. 0. 0.]]]]\n",
      "\n",
      "\n",
      "\n",
      "    [[[[0. 0. 0. 0.]\n",
      "       [0. 0. 0. 0.]\n",
      "       [0. 0. 0. 0.]]\n",
      "\n",
      "      [[0. 0. 0. 0.]\n",
      "       [0. 0. 0. 0.]\n",
      "       [0. 0. 0. 0.]]]]\n",
      "\n",
      "\n",
      "\n",
      "    [[[[0. 0. 0. 0.]\n",
      "       [0. 0. 0. 0.]\n",
      "       [0. 0. 0. 0.]]\n",
      "\n",
      "      [[0. 0. 0. 0.]\n",
      "       [0. 0. 0. 0.]\n",
      "       [0. 0. 0. 0.]]]]\n",
      "\n",
      "\n",
      "\n",
      "    [[[[0. 0. 0. 0.]\n",
      "       [0. 0. 0. 0.]\n",
      "       [0. 0. 0. 0.]]\n",
      "\n",
      "      [[0. 0. 0. 0.]\n",
      "       [0. 0. 0. 0.]\n",
      "       [0. 0. 0. 0.]]]]]]\n",
      "\n",
      "\n",
      "\n",
      "\n",
      "\n",
      "  [[[[[[0. 0. 0. 0.]\n",
      "       [0. 0. 0. 0.]\n",
      "       [0. 0. 0. 0.]]\n",
      "\n",
      "      [[0. 0. 0. 0.]\n",
      "       [0. 0. 0. 0.]\n",
      "       [0. 0. 0. 0.]]]]\n",
      "\n",
      "\n",
      "\n",
      "    [[[[0. 0. 0. 0.]\n",
      "       [0. 0. 0. 0.]\n",
      "       [0. 0. 0. 0.]]\n",
      "\n",
      "      [[0. 0. 0. 0.]\n",
      "       [0. 0. 0. 0.]\n",
      "       [0. 0. 0. 0.]]]]\n",
      "\n",
      "\n",
      "\n",
      "    [[[[0. 0. 0. 0.]\n",
      "       [0. 0. 0. 0.]\n",
      "       [0. 0. 0. 0.]]\n",
      "\n",
      "      [[0. 0. 0. 0.]\n",
      "       [0. 0. 0. 0.]\n",
      "       [0. 0. 0. 0.]]]]\n",
      "\n",
      "\n",
      "\n",
      "    [[[[0. 0. 0. 0.]\n",
      "       [0. 0. 0. 0.]\n",
      "       [0. 0. 0. 0.]]\n",
      "\n",
      "      [[0. 0. 0. 0.]\n",
      "       [0. 0. 0. 0.]\n",
      "       [0. 0. 0. 0.]]]]]\n",
      "\n",
      "\n",
      "\n",
      "\n",
      "   [[[[[0. 0. 0. 0.]\n",
      "       [0. 0. 0. 0.]\n",
      "       [0. 0. 0. 0.]]\n",
      "\n",
      "      [[0. 0. 0. 0.]\n",
      "       [0. 0. 0. 0.]\n",
      "       [0. 0. 0. 0.]]]]\n",
      "\n",
      "\n",
      "\n",
      "    [[[[0. 0. 0. 0.]\n",
      "       [0. 0. 0. 0.]\n",
      "       [0. 0. 0. 0.]]\n",
      "\n",
      "      [[0. 0. 0. 0.]\n",
      "       [0. 0. 0. 0.]\n",
      "       [0. 0. 0. 0.]]]]\n",
      "\n",
      "\n",
      "\n",
      "    [[[[0. 0. 0. 0.]\n",
      "       [0. 0. 0. 0.]\n",
      "       [0. 0. 0. 0.]]\n",
      "\n",
      "      [[0. 0. 0. 0.]\n",
      "       [0. 0. 0. 0.]\n",
      "       [0. 0. 0. 0.]]]]\n",
      "\n",
      "\n",
      "\n",
      "    [[[[0. 0. 0. 0.]\n",
      "       [0. 0. 0. 0.]\n",
      "       [0. 0. 0. 0.]]\n",
      "\n",
      "      [[0. 0. 0. 0.]\n",
      "       [0. 0. 0. 0.]\n",
      "       [0. 0. 0. 0.]]]]]\n",
      "\n",
      "\n",
      "\n",
      "\n",
      "   [[[[[0. 0. 0. 0.]\n",
      "       [0. 0. 0. 0.]\n",
      "       [0. 0. 0. 0.]]\n",
      "\n",
      "      [[0. 0. 0. 0.]\n",
      "       [0. 0. 0. 0.]\n",
      "       [0. 0. 0. 0.]]]]\n",
      "\n",
      "\n",
      "\n",
      "    [[[[0. 0. 0. 0.]\n",
      "       [0. 0. 0. 0.]\n",
      "       [0. 0. 0. 0.]]\n",
      "\n",
      "      [[0. 0. 0. 0.]\n",
      "       [0. 0. 0. 0.]\n",
      "       [0. 0. 0. 0.]]]]\n",
      "\n",
      "\n",
      "\n",
      "    [[[[0. 0. 0. 0.]\n",
      "       [0. 0. 0. 0.]\n",
      "       [0. 0. 0. 0.]]\n",
      "\n",
      "      [[0. 0. 0. 0.]\n",
      "       [0. 0. 0. 0.]\n",
      "       [0. 0. 0. 0.]]]]\n",
      "\n",
      "\n",
      "\n",
      "    [[[[0. 0. 0. 0.]\n",
      "       [0. 0. 0. 0.]\n",
      "       [0. 0. 0. 0.]]\n",
      "\n",
      "      [[0. 0. 0. 0.]\n",
      "       [0. 0. 0. 0.]\n",
      "       [0. 0. 0. 0.]]]]]]]]\n"
     ]
    }
   ],
   "source": [
    "x = np.zeros(list)\n",
    "print(x)"
   ]
  },
  {
   "cell_type": "code",
   "execution_count": 25,
   "metadata": {},
   "outputs": [
    {
     "name": "stdout",
     "output_type": "stream",
     "text": [
      "['due' 'to' 'the' 'import' 'of' 'Karachi' 'with' 'the' 'help' 'of' 'it,'\n",
      " 'it' 'is' 'to' 'beatifull' 'to' 'libve' 'oin' 'it']\n"
     ]
    }
   ],
   "source": [
    "import numpy as np\n",
    "text = \"due to the import of Karachi with the help of it, it is to beatifull to libve oin it\"\n",
    "sp =text.split(\" \")\n",
    "a = np.array(sp)\n",
    "print(a)"
   ]
  },
  {
   "cell_type": "code",
   "execution_count": null,
   "metadata": {},
   "outputs": [],
   "source": []
  },
  {
   "cell_type": "code",
   "execution_count": null,
   "metadata": {},
   "outputs": [],
   "source": []
  }
 ],
 "metadata": {
  "kernelspec": {
   "display_name": "Python 3",
   "language": "python",
   "name": "python3"
  },
  "language_info": {
   "codemirror_mode": {
    "name": "ipython",
    "version": 3
   },
   "file_extension": ".py",
   "mimetype": "text/x-python",
   "name": "python",
   "nbconvert_exporter": "python",
   "pygments_lexer": "ipython3",
   "version": "3.7.3"
  }
 },
 "nbformat": 4,
 "nbformat_minor": 2
}
