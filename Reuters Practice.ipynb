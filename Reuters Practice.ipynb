{
 "cells": [
  {
   "cell_type": "code",
   "execution_count": 55,
   "metadata": {},
   "outputs": [],
   "source": [
    "import tensorflow as tf\n",
    "import numpy as np\n",
    "import pandas as pd\n",
    "import keras"
   ]
  },
  {
   "cell_type": "code",
   "execution_count": 56,
   "metadata": {},
   "outputs": [],
   "source": [
    "from keras.datasets import reuters"
   ]
  },
  {
   "cell_type": "code",
   "execution_count": 57,
   "metadata": {},
   "outputs": [],
   "source": [
    "(x_train,y_train),(x_test,y_test) = reuters.load_data(num_words = 10000)"
   ]
  },
  {
   "cell_type": "code",
   "execution_count": 58,
   "metadata": {},
   "outputs": [],
   "source": [
    "def vectorize(sequences,dimension = 10000):\n",
    "    results = np.zeros((len(sequences), dimension))\n",
    "    for i, sequence in enumerate(sequences):\n",
    "        results[i, sequence] = 1\n",
    "    return results"
   ]
  },
  {
   "cell_type": "code",
   "execution_count": null,
   "metadata": {},
   "outputs": [],
   "source": []
  },
  {
   "cell_type": "code",
   "execution_count": 59,
   "metadata": {},
   "outputs": [],
   "source": [
    "x_train2 = vectorize(x_train)\n",
    "x_test2 = vectorize(x_test)"
   ]
  },
  {
   "cell_type": "code",
   "execution_count": 60,
   "metadata": {},
   "outputs": [],
   "source": [
    "y_train2 = tf.keras.utils.to_categorical(y_train)\n",
    "y_test2 = tf.keras.utils.to_categorical(y_test)"
   ]
  },
  {
   "cell_type": "code",
   "execution_count": null,
   "metadata": {},
   "outputs": [],
   "source": []
  },
  {
   "cell_type": "code",
   "execution_count": 61,
   "metadata": {},
   "outputs": [],
   "source": [
    "x_total = x_train2[:7000,:]\n",
    "x_val = x_train2[7000:,:]"
   ]
  },
  {
   "cell_type": "code",
   "execution_count": 62,
   "metadata": {},
   "outputs": [],
   "source": [
    "y_total = y_train2[:7000,:]\n",
    "y_val = y_train2[7000:,:]"
   ]
  },
  {
   "cell_type": "code",
   "execution_count": 63,
   "metadata": {},
   "outputs": [],
   "source": [
    "from keras import layers\n",
    "from keras import models"
   ]
  },
  {
   "cell_type": "code",
   "execution_count": 93,
   "metadata": {},
   "outputs": [],
   "source": [
    "model = models.Sequential()\n",
    "model.add(layers.Dense(64,activation = \"relu\",input_shape = (10000,)))\n",
    "model.add(layers.Dense(32,activation = \"tanh\"))\n",
    "model.add(layers.Dense(46,activation = \"softmax\"))"
   ]
  },
  {
   "cell_type": "code",
   "execution_count": 94,
   "metadata": {},
   "outputs": [],
   "source": [
    "model.compile(optimizer = \"rmsprop\", loss = \"categorical_crossentropy\", metrics = [\"accuracy\"])"
   ]
  },
  {
   "cell_type": "code",
   "execution_count": 95,
   "metadata": {},
   "outputs": [
    {
     "name": "stdout",
     "output_type": "stream",
     "text": [
      "Train on 7000 samples, validate on 1982 samples\n",
      "Epoch 1/10\n",
      "7000/7000 [==============================] - 2s 246us/step - loss: 2.8842 - accuracy: 0.4870 - val_loss: 2.1348 - val_accuracy: 0.6292\n",
      "Epoch 2/10\n",
      "7000/7000 [==============================] - 2s 229us/step - loss: 1.8133 - accuracy: 0.6606 - val_loss: 1.6124 - val_accuracy: 0.6948\n",
      "Epoch 3/10\n",
      "7000/7000 [==============================] - 2s 231us/step - loss: 1.3764 - accuracy: 0.7371 - val_loss: 1.3648 - val_accuracy: 0.7291\n",
      "Epoch 4/10\n",
      "7000/7000 [==============================] - 2s 232us/step - loss: 1.1191 - accuracy: 0.7891 - val_loss: 1.2368 - val_accuracy: 0.7376\n",
      "Epoch 5/10\n",
      "7000/7000 [==============================] - 2s 226us/step - loss: 0.9337 - accuracy: 0.8343 - val_loss: 1.1225 - val_accuracy: 0.7593\n",
      "Epoch 6/10\n",
      "7000/7000 [==============================] - 2s 227us/step - loss: 0.7829 - accuracy: 0.8720 - val_loss: 1.0582 - val_accuracy: 0.7770\n",
      "Epoch 7/10\n",
      "7000/7000 [==============================] - 2s 228us/step - loss: 0.6648 - accuracy: 0.8976 - val_loss: 1.0089 - val_accuracy: 0.7891\n",
      "Epoch 8/10\n",
      "7000/7000 [==============================] - 2s 232us/step - loss: 0.5655 - accuracy: 0.9164 - val_loss: 0.9739 - val_accuracy: 0.7886\n",
      "Epoch 9/10\n",
      "7000/7000 [==============================] - 2s 238us/step - loss: 0.4858 - accuracy: 0.9306 - val_loss: 0.9284 - val_accuracy: 0.8032\n",
      "Epoch 10/10\n",
      "7000/7000 [==============================] - 2s 227us/step - loss: 0.4161 - accuracy: 0.9400 - val_loss: 0.9142 - val_accuracy: 0.8017\n"
     ]
    }
   ],
   "source": [
    "history = model.fit(x_total, y_total, epochs = 10,batch_size = 512, validation_data = (x_val,y_val))"
   ]
  },
  {
   "cell_type": "code",
   "execution_count": null,
   "metadata": {},
   "outputs": [],
   "source": [
    "model.evaluate(x_test2,y_test2)"
   ]
  },
  {
   "cell_type": "code",
   "execution_count": null,
   "metadata": {},
   "outputs": [],
   "source": []
  },
  {
   "cell_type": "code",
   "execution_count": null,
   "metadata": {},
   "outputs": [],
   "source": []
  },
  {
   "cell_type": "code",
   "execution_count": 70,
   "metadata": {},
   "outputs": [
    {
     "name": "stdout",
     "output_type": "stream",
     "text": [
      "dict_keys(['val_loss', 'val_accuracy', 'loss', 'accuracy'])\n"
     ]
    }
   ],
   "source": [
    "print(history.history.keys())"
   ]
  },
  {
   "cell_type": "code",
   "execution_count": 71,
   "metadata": {},
   "outputs": [],
   "source": [
    "import matplotlib.pylab as plt"
   ]
  },
  {
   "cell_type": "code",
   "execution_count": 91,
   "metadata": {},
   "outputs": [
    {
     "data": {
      "text/plain": [
       "Text(0, 0.5, 'Loss')"
      ]
     },
     "execution_count": 91,
     "metadata": {},
     "output_type": "execute_result"
    },
    {
     "data": {
      "image/png": "[encoded data removed]",
      "text/plain": [
       "<Figure size 432x288 with 1 Axes>"
      ]
     },
     "metadata": {
      "needs_background": "light"
     },
     "output_type": "display_data"
    }
   ],
   "source": [
    "train_loss = history.history[\"loss\"]\n",
    "val_loss = history.history[\"val_loss\"]\n",
    "epochs = range(1,len(y) + 1)\n",
    "plt.plot(epochs,train_loss,\"bo\",label = \"Training Loss\")\n",
    "plt.plot(epochs,val_loss,\"b\",label = \"Validation Loss\")\n",
    "plt.title(\"Training and Validation Loss\")\n",
    "plt.xlabel(\"Epochs\")\n",
    "plt.ylabel(\"Loss\")"
   ]
  },
  {
   "cell_type": "code",
   "execution_count": 92,
   "metadata": {},
   "outputs": [
    {
     "data": {
      "text/plain": [
       "Text(0, 0.5, 'Accuracy')"
      ]
     },
     "execution_count": 92,
     "metadata": {},
     "output_type": "execute_result"
    },
    {
     "data": {
      "image/png": "[encoded data removed]",
      "text/plain": [
       "<Figure size 432x288 with 1 Axes>"
      ]
     },
     "metadata": {
      "needs_background": "light"
     },
     "output_type": "display_data"
    }
   ],
   "source": [
    "train_acc = history.history[\"accuracy\"]\n",
    "val_acc = history.history[\"val_accuracy\"]\n",
    "epochs = range(1,len(y) + 1)\n",
    "plt.plot(epochs,train_acc,\"bo\",label = \"Training Accuracy\")\n",
    "plt.plot(epochs,val_acc,\"b\",label = \"Validation Accuracy\")\n",
    "plt.title(\"Training and Validation Accuracy\")\n",
    "plt.xlabel(\"Epochs\")\n",
    "plt.ylabel(\"Accuracy\")"
   ]
  },
  {
   "cell_type": "code",
   "execution_count": null,
   "metadata": {},
   "outputs": [],
   "source": []
  }
 ],
 "metadata": {
  "kernelspec": {
   "display_name": "Python 3",
   "language": "python",
   "name": "python3"
  },
  "language_info": {
   "codemirror_mode": {
    "name": "ipython",
    "version": 3
   },
   "file_extension": ".py",
   "mimetype": "text/x-python",
   "name": "python",
   "nbconvert_exporter": "python",
   "pygments_lexer": "ipython3",
   "version": "3.7.3"
  }
 },
 "nbformat": 4,
 "nbformat_minor": 2
}
