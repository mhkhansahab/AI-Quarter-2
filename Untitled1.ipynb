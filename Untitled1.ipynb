{
 "cells": [
  {
   "cell_type": "code",
   "execution_count": 4,
   "metadata": {},
   "outputs": [
    {
     "name": "stdout",
     "output_type": "stream",
     "text": [
      "Press 1 for Farenheit  to Celcius \n",
      "Press 2 for Celcius to Farenheit \n",
      "Press 3 for Farenheit to Kelvin \n",
      "Press 4 for Kelvin to Farenheit\n",
      "Press 5 for Kelvin to Celcius\n",
      "Press 6 for Celcius to Kelvin\n",
      "Press 7 To know temp in all scale\n",
      "\n",
      "Please select the scale : 1\n",
      "Please enter temp =  34\n",
      "Temp in Farenheit to Celcius =1.1111111111111112\n"
     ]
    }
   ],
   "source": []
  }
 ],
 "metadata": {
  "kernelspec": {
   "display_name": "Python 3",
   "language": "python",
   "name": "python3"
  },
  "language_info": {
   "codemirror_mode": {
    "name": "ipython",
    "version": 3
   },
   "file_extension": ".py",
   "mimetype": "text/x-python",
   "name": "python",
   "nbconvert_exporter": "python",
   "pygments_lexer": "ipython3",
   "version": "3.7.3"
  }
 },
 "nbformat": 4,
 "nbformat_minor": 2
}
