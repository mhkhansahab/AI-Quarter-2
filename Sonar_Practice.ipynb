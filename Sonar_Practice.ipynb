{
 "cells": [
  {
   "cell_type": "code",
   "execution_count": 1,
   "metadata": {},
   "outputs": [],
   "source": [
    "import pandas as pd\n",
    "import numpy as np\n",
    "import tensorflow as tf\n",
    "from tensorflow.keras import models\n",
    "from tensorflow.keras import layers"
   ]
  },
  {
   "cell_type": "code",
   "execution_count": 2,
   "metadata": {},
   "outputs": [],
   "source": [
    "sonar = pd.read_csv(\"dataset\\sonar.csv\", header = None)"
   ]
  },
  {
   "cell_type": "code",
   "execution_count": 3,
   "metadata": {},
   "outputs": [
    {
     "data": {
      "text/plain": [
       "(208, 61)"
      ]
     },
     "execution_count": 3,
     "metadata": {},
     "output_type": "execute_result"
    }
   ],
   "source": [
    "sonar = sonar.sample(frac=1)\n",
    "#print(sonar)\n",
    "sonar.shape"
   ]
  },
  {
   "cell_type": "code",
   "execution_count": 4,
   "metadata": {},
   "outputs": [],
   "source": [
    "sonar = sonar.values"
   ]
  },
  {
   "cell_type": "code",
   "execution_count": 5,
   "metadata": {},
   "outputs": [],
   "source": [
    "traindata = sonar[:126,:60].astype('float32')\n",
    "trainlabel = sonar[:126,60]\n",
    "\n",
    "#len(traindata)"
   ]
  },
  {
   "cell_type": "code",
   "execution_count": 6,
   "metadata": {},
   "outputs": [
    {
     "data": {
      "text/plain": [
       "(126,)"
      ]
     },
     "execution_count": 6,
     "metadata": {},
     "output_type": "execute_result"
    }
   ],
   "source": [
    "trainlabel.shape"
   ]
  },
  {
   "cell_type": "code",
   "execution_count": null,
   "metadata": {},
   "outputs": [],
   "source": []
  },
  {
   "cell_type": "code",
   "execution_count": 7,
   "metadata": {},
   "outputs": [],
   "source": [
    "valdata = sonar[126:146,:60]\n",
    "vallabel = sonar[126:146,-1]\n",
    "valdata = valdata.astype('float32')\n",
    "#len(valdata)"
   ]
  },
  {
   "cell_type": "code",
   "execution_count": 8,
   "metadata": {},
   "outputs": [
    {
     "data": {
      "text/plain": [
       "62"
      ]
     },
     "execution_count": 8,
     "metadata": {},
     "output_type": "execute_result"
    }
   ],
   "source": [
    "testdata = sonar[146:,:60]\n",
    "testlabel = sonar[146:,-1]\n",
    "testdata = testdata.astype('float32')\n",
    "len(testdata)"
   ]
  },
  {
   "cell_type": "code",
   "execution_count": 9,
   "metadata": {},
   "outputs": [],
   "source": [
    "from sklearn.preprocessing import LabelEncoder\n",
    "# encode class values as integers\n",
    "le = LabelEncoder()\n",
    "trainlabel = le.fit_transform(trainlabel)\n",
    "#encoded_train = tf.keras.utils.to_categorical(trainlabel)\n",
    "testlabel = le.fit_transform(testlabel)\n",
    "#encoded_test = tf.keras.utils.to_categorical(testlabel)\n",
    "validlabel = le.fit_transform(vallabel)\n",
    "#encoded_val = tf.keras.utils.to_categorical(validlabel)"
   ]
  },
  {
   "cell_type": "code",
   "execution_count": 10,
   "metadata": {},
   "outputs": [
    {
     "data": {
      "text/plain": [
       "(20,)"
      ]
     },
     "execution_count": 10,
     "metadata": {},
     "output_type": "execute_result"
    }
   ],
   "source": [
    "validlabel.shape"
   ]
  },
  {
   "cell_type": "code",
   "execution_count": 12,
   "metadata": {},
   "outputs": [
    {
     "data": {
      "text/plain": [
       "array([1, 1, 1, 1, 1, 1, 0, 1, 0, 1, 0, 1, 0, 0, 0, 1, 1, 0, 1, 1, 1, 0,\n",
       "       0, 0, 0, 1, 0, 1, 0, 0, 1, 0, 0, 1, 0, 0, 1, 0, 0, 0, 1, 0, 0, 1,\n",
       "       0, 0, 1, 0, 1, 0, 0, 1, 0, 1, 0, 0, 1, 0, 0, 1, 1, 1, 0, 0, 0, 1,\n",
       "       1, 1, 1, 0, 1, 0, 0, 1, 0, 1, 1, 0, 0, 0, 0, 1, 0, 1, 1, 0, 1, 0,\n",
       "       0, 1, 1, 0, 1, 0, 0, 1, 0, 1, 0, 0, 1, 1, 1, 1, 0, 1, 0, 1, 1, 1,\n",
       "       0, 1, 1, 0, 1, 1, 0, 1, 1, 1, 0, 0, 0, 1, 0, 0])"
      ]
     },
     "execution_count": 12,
     "metadata": {},
     "output_type": "execute_result"
    }
   ],
   "source": [
    "trainlabel"
   ]
  },
  {
   "cell_type": "code",
   "execution_count": 13,
   "metadata": {},
   "outputs": [],
   "source": [
    "model = models.Sequential()\n",
    "model.add(layers.Input(shape = (60,)))\n",
    "#model.add(layers.Dropout(0.001))\n",
    "#model.add(layers.Dense(80, activation = \"tanh\"))\n",
    "model.add(layers.Dense(25, activation = \"relu\"))\n",
    "#model.add(layers.LeakyReLU(alpha=0.05))\n",
    "model.add(layers.Dense(1, activation='sigmoid'))"
   ]
  },
  {
   "cell_type": "code",
   "execution_count": 14,
   "metadata": {},
   "outputs": [],
   "source": [
    "model.compile(optimizer=\"adam\",\n",
    "              loss='binary_crossentropy',\n",
    "              metrics=['accuracy'])"
   ]
  },
  {
   "cell_type": "code",
   "execution_count": 15,
   "metadata": {},
   "outputs": [
    {
     "name": "stdout",
     "output_type": "stream",
     "text": [
      "Train on 126 samples, validate on 20 samples\n",
      "Epoch 1/200\n",
      "126/126 [==============================] - 1s 9ms/sample - loss: 0.6902 - accuracy: 0.5317 - val_loss: 0.6926 - val_accuracy: 0.5500\n",
      "Epoch 2/200\n",
      "126/126 [==============================] - 0s 277us/sample - loss: 0.6809 - accuracy: 0.5714 - val_loss: 0.6753 - val_accuracy: 0.5500\n",
      "Epoch 3/200\n",
      "126/126 [==============================] - 0s 270us/sample - loss: 0.6749 - accuracy: 0.5635 - val_loss: 0.6637 - val_accuracy: 0.6500\n",
      "Epoch 4/200\n",
      "126/126 [==============================] - 0s 214us/sample - loss: 0.6708 - accuracy: 0.5794 - val_loss: 0.6545 - val_accuracy: 0.7000\n",
      "Epoch 5/200\n",
      "126/126 [==============================] - 0s 246us/sample - loss: 0.6653 - accuracy: 0.5873 - val_loss: 0.6505 - val_accuracy: 0.7000\n",
      "Epoch 6/200\n",
      "126/126 [==============================] - 0s 230us/sample - loss: 0.6599 - accuracy: 0.5952 - val_loss: 0.6494 - val_accuracy: 0.7500\n",
      "Epoch 7/200\n",
      "126/126 [==============================] - 0s 246us/sample - loss: 0.6555 - accuracy: 0.6111 - val_loss: 0.6480 - val_accuracy: 0.7500\n",
      "Epoch 8/200\n",
      "126/126 [==============================] - 0s 262us/sample - loss: 0.6512 - accuracy: 0.6032 - val_loss: 0.6516 - val_accuracy: 0.6500\n",
      "Epoch 9/200\n",
      "126/126 [==============================] - 0s 278us/sample - loss: 0.6465 - accuracy: 0.6349 - val_loss: 0.6533 - val_accuracy: 0.6000\n",
      "Epoch 10/200\n",
      "126/126 [==============================] - 0s 262us/sample - loss: 0.6413 - accuracy: 0.6429 - val_loss: 0.6505 - val_accuracy: 0.6000\n",
      "Epoch 11/200\n",
      "126/126 [==============================] - 0s 206us/sample - loss: 0.6363 - accuracy: 0.6508 - val_loss: 0.6444 - val_accuracy: 0.6500\n",
      "Epoch 12/200\n",
      "126/126 [==============================] - 0s 254us/sample - loss: 0.6309 - accuracy: 0.6587 - val_loss: 0.6379 - val_accuracy: 0.7500\n",
      "Epoch 13/200\n",
      "126/126 [==============================] - 0s 278us/sample - loss: 0.6258 - accuracy: 0.6667 - val_loss: 0.6313 - val_accuracy: 0.7500\n",
      "Epoch 14/200\n",
      "126/126 [==============================] - 0s 325us/sample - loss: 0.6212 - accuracy: 0.6746 - val_loss: 0.6330 - val_accuracy: 0.7500\n",
      "Epoch 15/200\n",
      "126/126 [==============================] - 0s 278us/sample - loss: 0.6163 - accuracy: 0.6984 - val_loss: 0.6326 - val_accuracy: 0.7500\n",
      "Epoch 16/200\n",
      "126/126 [==============================] - 0s 246us/sample - loss: 0.6130 - accuracy: 0.6984 - val_loss: 0.6264 - val_accuracy: 0.8000\n",
      "Epoch 17/200\n",
      "126/126 [==============================] - 0s 270us/sample - loss: 0.6083 - accuracy: 0.7222 - val_loss: 0.6238 - val_accuracy: 0.8000\n",
      "Epoch 18/200\n",
      "126/126 [==============================] - 0s 254us/sample - loss: 0.6045 - accuracy: 0.7222 - val_loss: 0.6224 - val_accuracy: 0.7500\n",
      "Epoch 19/200\n",
      "126/126 [==============================] - 0s 270us/sample - loss: 0.6000 - accuracy: 0.7381 - val_loss: 0.6236 - val_accuracy: 0.7500\n",
      "Epoch 20/200\n",
      "126/126 [==============================] - 0s 254us/sample - loss: 0.5961 - accuracy: 0.7460 - val_loss: 0.6212 - val_accuracy: 0.7500\n",
      "Epoch 21/200\n",
      "126/126 [==============================] - 0s 333us/sample - loss: 0.5921 - accuracy: 0.7460 - val_loss: 0.6217 - val_accuracy: 0.7500\n",
      "Epoch 22/200\n",
      "126/126 [==============================] - 0s 286us/sample - loss: 0.5879 - accuracy: 0.7540 - val_loss: 0.6181 - val_accuracy: 0.7500\n",
      "Epoch 23/200\n",
      "126/126 [==============================] - 0s 270us/sample - loss: 0.5837 - accuracy: 0.7619 - val_loss: 0.6171 - val_accuracy: 0.7500\n",
      "Epoch 24/200\n",
      "126/126 [==============================] - 0s 270us/sample - loss: 0.5798 - accuracy: 0.7698 - val_loss: 0.6175 - val_accuracy: 0.7500\n",
      "Epoch 25/200\n",
      "126/126 [==============================] - 0s 278us/sample - loss: 0.5758 - accuracy: 0.7698 - val_loss: 0.6128 - val_accuracy: 0.7500\n",
      "Epoch 26/200\n",
      "126/126 [==============================] - 0s 270us/sample - loss: 0.5717 - accuracy: 0.7698 - val_loss: 0.6116 - val_accuracy: 0.7500\n",
      "Epoch 27/200\n",
      "126/126 [==============================] - 0s 341us/sample - loss: 0.5673 - accuracy: 0.7778 - val_loss: 0.6088 - val_accuracy: 0.7500\n",
      "Epoch 28/200\n",
      "126/126 [==============================] - 0s 278us/sample - loss: 0.5633 - accuracy: 0.7857 - val_loss: 0.6078 - val_accuracy: 0.7500\n",
      "Epoch 29/200\n",
      "126/126 [==============================] - 0s 309us/sample - loss: 0.5592 - accuracy: 0.8095 - val_loss: 0.6120 - val_accuracy: 0.7500\n",
      "Epoch 30/200\n",
      "126/126 [==============================] - 0s 293us/sample - loss: 0.5547 - accuracy: 0.8095 - val_loss: 0.6117 - val_accuracy: 0.7500\n",
      "Epoch 31/200\n",
      "126/126 [==============================] - 0s 301us/sample - loss: 0.5507 - accuracy: 0.8333 - val_loss: 0.6146 - val_accuracy: 0.7500\n",
      "Epoch 32/200\n",
      "126/126 [==============================] - 0s 309us/sample - loss: 0.5468 - accuracy: 0.8254 - val_loss: 0.6133 - val_accuracy: 0.7500\n",
      "Epoch 33/200\n",
      "126/126 [==============================] - 0s 357us/sample - loss: 0.5421 - accuracy: 0.8413 - val_loss: 0.6086 - val_accuracy: 0.7500\n",
      "Epoch 34/200\n",
      "126/126 [==============================] - 0s 262us/sample - loss: 0.5397 - accuracy: 0.8175 - val_loss: 0.5987 - val_accuracy: 0.8000\n",
      "Epoch 35/200\n",
      "126/126 [==============================] - 0s 286us/sample - loss: 0.5370 - accuracy: 0.8333 - val_loss: 0.6071 - val_accuracy: 0.7500\n",
      "Epoch 36/200\n",
      "126/126 [==============================] - 0s 294us/sample - loss: 0.5303 - accuracy: 0.8571 - val_loss: 0.6059 - val_accuracy: 0.7500\n",
      "Epoch 37/200\n",
      "126/126 [==============================] - 0s 262us/sample - loss: 0.5261 - accuracy: 0.8413 - val_loss: 0.6041 - val_accuracy: 0.8000\n",
      "Epoch 38/200\n",
      "126/126 [==============================] - 0s 301us/sample - loss: 0.5223 - accuracy: 0.8571 - val_loss: 0.6030 - val_accuracy: 0.8000\n",
      "Epoch 39/200\n",
      "126/126 [==============================] - 0s 270us/sample - loss: 0.5180 - accuracy: 0.8730 - val_loss: 0.6011 - val_accuracy: 0.8000\n",
      "Epoch 40/200\n",
      "126/126 [==============================] - 0s 254us/sample - loss: 0.5153 - accuracy: 0.8571 - val_loss: 0.5954 - val_accuracy: 0.8000\n",
      "Epoch 41/200\n",
      "126/126 [==============================] - 0s 254us/sample - loss: 0.5109 - accuracy: 0.8651 - val_loss: 0.5955 - val_accuracy: 0.8000\n",
      "Epoch 42/200\n",
      "126/126 [==============================] - 0s 293us/sample - loss: 0.5066 - accuracy: 0.8651 - val_loss: 0.5978 - val_accuracy: 0.8000\n",
      "Epoch 43/200\n",
      "126/126 [==============================] - 0s 286us/sample - loss: 0.5028 - accuracy: 0.8651 - val_loss: 0.6039 - val_accuracy: 0.8000\n",
      "Epoch 44/200\n",
      "126/126 [==============================] - 0s 254us/sample - loss: 0.4995 - accuracy: 0.8571 - val_loss: 0.6074 - val_accuracy: 0.8000\n",
      "Epoch 45/200\n",
      "126/126 [==============================] - 0s 357us/sample - loss: 0.4960 - accuracy: 0.8730 - val_loss: 0.6056 - val_accuracy: 0.8000\n",
      "Epoch 46/200\n",
      "126/126 [==============================] - 0s 389us/sample - loss: 0.4920 - accuracy: 0.8571 - val_loss: 0.6022 - val_accuracy: 0.8000\n",
      "Epoch 47/200\n",
      "126/126 [==============================] - 0s 333us/sample - loss: 0.4883 - accuracy: 0.8651 - val_loss: 0.6023 - val_accuracy: 0.8000\n",
      "Epoch 48/200\n",
      "126/126 [==============================] - 0s 373us/sample - loss: 0.4853 - accuracy: 0.8730 - val_loss: 0.5966 - val_accuracy: 0.8000\n",
      "Epoch 49/200\n",
      "126/126 [==============================] - 0s 286us/sample - loss: 0.4815 - accuracy: 0.8730 - val_loss: 0.6016 - val_accuracy: 0.8000\n",
      "Epoch 50/200\n",
      "126/126 [==============================] - 0s 301us/sample - loss: 0.4778 - accuracy: 0.8651 - val_loss: 0.6034 - val_accuracy: 0.8000\n",
      "Epoch 51/200\n",
      "126/126 [==============================] - 0s 357us/sample - loss: 0.4747 - accuracy: 0.8651 - val_loss: 0.6031 - val_accuracy: 0.8000\n",
      "Epoch 52/200\n",
      "126/126 [==============================] - 0s 373us/sample - loss: 0.4709 - accuracy: 0.8651 - val_loss: 0.6021 - val_accuracy: 0.8000\n",
      "Epoch 53/200\n",
      "126/126 [==============================] - 0s 333us/sample - loss: 0.4672 - accuracy: 0.8651 - val_loss: 0.5961 - val_accuracy: 0.8000\n",
      "Epoch 54/200\n",
      "126/126 [==============================] - 0s 293us/sample - loss: 0.4647 - accuracy: 0.8730 - val_loss: 0.5940 - val_accuracy: 0.8000\n",
      "Epoch 55/200\n",
      "126/126 [==============================] - 0s 349us/sample - loss: 0.4611 - accuracy: 0.8730 - val_loss: 0.5938 - val_accuracy: 0.8000\n",
      "Epoch 56/200\n"
     ]
    },
    {
     "name": "stdout",
     "output_type": "stream",
     "text": [
      "126/126 [==============================] - 0s 309us/sample - loss: 0.4576 - accuracy: 0.8730 - val_loss: 0.5965 - val_accuracy: 0.8000\n",
      "Epoch 57/200\n",
      "126/126 [==============================] - 0s 301us/sample - loss: 0.4545 - accuracy: 0.8730 - val_loss: 0.5985 - val_accuracy: 0.8000\n",
      "Epoch 58/200\n",
      "126/126 [==============================] - 0s 317us/sample - loss: 0.4516 - accuracy: 0.8730 - val_loss: 0.5997 - val_accuracy: 0.8000\n",
      "Epoch 59/200\n",
      "126/126 [==============================] - 0s 301us/sample - loss: 0.4484 - accuracy: 0.8571 - val_loss: 0.6047 - val_accuracy: 0.8000\n",
      "Epoch 60/200\n",
      "126/126 [==============================] - 0s 278us/sample - loss: 0.4454 - accuracy: 0.8651 - val_loss: 0.6031 - val_accuracy: 0.8000\n",
      "Epoch 61/200\n",
      "126/126 [==============================] - 0s 293us/sample - loss: 0.4424 - accuracy: 0.8651 - val_loss: 0.6002 - val_accuracy: 0.8000\n",
      "Epoch 62/200\n",
      "126/126 [==============================] - 0s 286us/sample - loss: 0.4393 - accuracy: 0.8651 - val_loss: 0.5992 - val_accuracy: 0.8000\n",
      "Epoch 63/200\n",
      "126/126 [==============================] - 0s 286us/sample - loss: 0.4378 - accuracy: 0.8651 - val_loss: 0.5960 - val_accuracy: 0.8000\n",
      "Epoch 64/200\n",
      "126/126 [==============================] - 0s 270us/sample - loss: 0.4335 - accuracy: 0.8730 - val_loss: 0.6010 - val_accuracy: 0.8000\n",
      "Epoch 65/200\n",
      "126/126 [==============================] - 0s 325us/sample - loss: 0.4316 - accuracy: 0.8571 - val_loss: 0.6082 - val_accuracy: 0.7000\n",
      "Epoch 66/200\n",
      "126/126 [==============================] - 0s 270us/sample - loss: 0.4280 - accuracy: 0.8651 - val_loss: 0.6081 - val_accuracy: 0.7000\n",
      "Epoch 67/200\n",
      "126/126 [==============================] - 0s 333us/sample - loss: 0.4251 - accuracy: 0.8730 - val_loss: 0.6036 - val_accuracy: 0.8000\n",
      "Epoch 68/200\n",
      "126/126 [==============================] - 0s 365us/sample - loss: 0.4224 - accuracy: 0.8651 - val_loss: 0.6001 - val_accuracy: 0.8000\n",
      "Epoch 69/200\n",
      "126/126 [==============================] - 0s 373us/sample - loss: 0.4200 - accuracy: 0.8651 - val_loss: 0.6035 - val_accuracy: 0.7500\n",
      "Epoch 70/200\n",
      "126/126 [==============================] - 0s 309us/sample - loss: 0.4169 - accuracy: 0.8651 - val_loss: 0.6014 - val_accuracy: 0.8000\n",
      "Epoch 71/200\n",
      "126/126 [==============================] - 0s 349us/sample - loss: 0.4148 - accuracy: 0.8810 - val_loss: 0.6008 - val_accuracy: 0.8000\n",
      "Epoch 72/200\n",
      "126/126 [==============================] - 0s 373us/sample - loss: 0.4118 - accuracy: 0.8810 - val_loss: 0.6030 - val_accuracy: 0.8000\n",
      "Epoch 73/200\n",
      "126/126 [==============================] - 0s 373us/sample - loss: 0.4096 - accuracy: 0.8651 - val_loss: 0.6113 - val_accuracy: 0.7000\n",
      "Epoch 74/200\n",
      "126/126 [==============================] - 0s 531us/sample - loss: 0.4067 - accuracy: 0.8651 - val_loss: 0.6130 - val_accuracy: 0.7000\n",
      "Epoch 75/200\n",
      "126/126 [==============================] - 0s 500us/sample - loss: 0.4052 - accuracy: 0.8730 - val_loss: 0.6073 - val_accuracy: 0.7500\n",
      "Epoch 76/200\n",
      "126/126 [==============================] - 0s 436us/sample - loss: 0.4018 - accuracy: 0.8730 - val_loss: 0.6080 - val_accuracy: 0.8000\n",
      "Epoch 77/200\n",
      "126/126 [==============================] - 0s 286us/sample - loss: 0.3993 - accuracy: 0.8810 - val_loss: 0.6095 - val_accuracy: 0.7000\n",
      "Epoch 78/200\n",
      "126/126 [==============================] - 0s 278us/sample - loss: 0.3969 - accuracy: 0.8730 - val_loss: 0.6163 - val_accuracy: 0.7000\n",
      "Epoch 79/200\n",
      "126/126 [==============================] - 0s 317us/sample - loss: 0.3948 - accuracy: 0.8810 - val_loss: 0.6150 - val_accuracy: 0.7000\n",
      "Epoch 80/200\n",
      "126/126 [==============================] - 0s 333us/sample - loss: 0.3922 - accuracy: 0.8730 - val_loss: 0.6165 - val_accuracy: 0.7000\n",
      "Epoch 81/200\n",
      "126/126 [==============================] - 0s 317us/sample - loss: 0.3899 - accuracy: 0.8810 - val_loss: 0.6197 - val_accuracy: 0.7000\n",
      "Epoch 82/200\n",
      "126/126 [==============================] - 0s 349us/sample - loss: 0.3881 - accuracy: 0.8889 - val_loss: 0.6198 - val_accuracy: 0.7000\n",
      "Epoch 83/200\n",
      "126/126 [==============================] - 0s 262us/sample - loss: 0.3855 - accuracy: 0.8810 - val_loss: 0.6183 - val_accuracy: 0.7000\n",
      "Epoch 84/200\n",
      "126/126 [==============================] - 0s 293us/sample - loss: 0.3833 - accuracy: 0.8810 - val_loss: 0.6172 - val_accuracy: 0.7000\n",
      "Epoch 85/200\n",
      "126/126 [==============================] - 0s 325us/sample - loss: 0.3810 - accuracy: 0.8810 - val_loss: 0.6185 - val_accuracy: 0.7000\n",
      "Epoch 86/200\n",
      "126/126 [==============================] - 0s 286us/sample - loss: 0.3791 - accuracy: 0.8810 - val_loss: 0.6228 - val_accuracy: 0.7000\n",
      "Epoch 87/200\n",
      "126/126 [==============================] - 0s 309us/sample - loss: 0.3772 - accuracy: 0.8889 - val_loss: 0.6238 - val_accuracy: 0.7000\n",
      "Epoch 88/200\n",
      "126/126 [==============================] - 0s 349us/sample - loss: 0.3750 - accuracy: 0.8889 - val_loss: 0.6268 - val_accuracy: 0.7000\n",
      "Epoch 89/200\n",
      "126/126 [==============================] - 0s 436us/sample - loss: 0.3728 - accuracy: 0.8810 - val_loss: 0.6247 - val_accuracy: 0.7000\n",
      "Epoch 90/200\n",
      "126/126 [==============================] - 0s 341us/sample - loss: 0.3706 - accuracy: 0.8810 - val_loss: 0.6271 - val_accuracy: 0.7000\n",
      "Epoch 91/200\n",
      "126/126 [==============================] - 0s 309us/sample - loss: 0.3699 - accuracy: 0.9048 - val_loss: 0.6243 - val_accuracy: 0.7000\n",
      "Epoch 92/200\n",
      "126/126 [==============================] - 0s 325us/sample - loss: 0.3672 - accuracy: 0.8889 - val_loss: 0.6303 - val_accuracy: 0.7000\n",
      "Epoch 93/200\n",
      "126/126 [==============================] - 0s 365us/sample - loss: 0.3648 - accuracy: 0.8889 - val_loss: 0.6326 - val_accuracy: 0.7000\n",
      "Epoch 94/200\n",
      "126/126 [==============================] - 0s 325us/sample - loss: 0.3633 - accuracy: 0.8889 - val_loss: 0.6307 - val_accuracy: 0.7000\n",
      "Epoch 95/200\n",
      "126/126 [==============================] - 0s 278us/sample - loss: 0.3610 - accuracy: 0.8968 - val_loss: 0.6324 - val_accuracy: 0.7000\n",
      "Epoch 96/200\n",
      "126/126 [==============================] - 0s 254us/sample - loss: 0.3588 - accuracy: 0.8968 - val_loss: 0.6362 - val_accuracy: 0.7000\n",
      "Epoch 97/200\n",
      "126/126 [==============================] - 0s 309us/sample - loss: 0.3573 - accuracy: 0.8889 - val_loss: 0.6393 - val_accuracy: 0.7000\n",
      "Epoch 98/200\n",
      "126/126 [==============================] - 0s 254us/sample - loss: 0.3559 - accuracy: 0.8889 - val_loss: 0.6397 - val_accuracy: 0.7000\n",
      "Epoch 99/200\n",
      "126/126 [==============================] - 0s 262us/sample - loss: 0.3537 - accuracy: 0.8889 - val_loss: 0.6409 - val_accuracy: 0.7000\n",
      "Epoch 100/200\n",
      "126/126 [==============================] - 0s 230us/sample - loss: 0.3517 - accuracy: 0.8889 - val_loss: 0.6401 - val_accuracy: 0.7000\n",
      "Epoch 101/200\n",
      "126/126 [==============================] - 0s 214us/sample - loss: 0.3500 - accuracy: 0.8968 - val_loss: 0.6387 - val_accuracy: 0.7000\n",
      "Epoch 102/200\n",
      "126/126 [==============================] - 0s 230us/sample - loss: 0.3485 - accuracy: 0.9048 - val_loss: 0.6382 - val_accuracy: 0.7000\n",
      "Epoch 103/200\n",
      "126/126 [==============================] - 0s 214us/sample - loss: 0.3472 - accuracy: 0.9048 - val_loss: 0.6424 - val_accuracy: 0.7000\n",
      "Epoch 104/200\n",
      "126/126 [==============================] - 0s 214us/sample - loss: 0.3452 - accuracy: 0.8968 - val_loss: 0.6488 - val_accuracy: 0.7000\n",
      "Epoch 105/200\n",
      "126/126 [==============================] - 0s 254us/sample - loss: 0.3439 - accuracy: 0.8968 - val_loss: 0.6495 - val_accuracy: 0.7000\n",
      "Epoch 106/200\n",
      "126/126 [==============================] - 0s 254us/sample - loss: 0.3416 - accuracy: 0.8968 - val_loss: 0.6484 - val_accuracy: 0.7000\n",
      "Epoch 107/200\n",
      "126/126 [==============================] - 0s 262us/sample - loss: 0.3404 - accuracy: 0.9127 - val_loss: 0.6463 - val_accuracy: 0.7000\n",
      "Epoch 108/200\n",
      "126/126 [==============================] - 0s 262us/sample - loss: 0.3388 - accuracy: 0.9048 - val_loss: 0.6452 - val_accuracy: 0.7000\n",
      "Epoch 109/200\n",
      "126/126 [==============================] - 0s 238us/sample - loss: 0.3369 - accuracy: 0.9048 - val_loss: 0.6516 - val_accuracy: 0.7000\n",
      "Epoch 110/200\n",
      "126/126 [==============================] - 0s 262us/sample - loss: 0.3357 - accuracy: 0.8968 - val_loss: 0.6582 - val_accuracy: 0.7000\n",
      "Epoch 111/200\n"
     ]
    },
    {
     "name": "stdout",
     "output_type": "stream",
     "text": [
      "126/126 [==============================] - 0s 246us/sample - loss: 0.3343 - accuracy: 0.8968 - val_loss: 0.6551 - val_accuracy: 0.7000\n",
      "Epoch 112/200\n",
      "126/126 [==============================] - 0s 238us/sample - loss: 0.3322 - accuracy: 0.8968 - val_loss: 0.6584 - val_accuracy: 0.7000\n",
      "Epoch 113/200\n",
      "126/126 [==============================] - 0s 262us/sample - loss: 0.3304 - accuracy: 0.9048 - val_loss: 0.6587 - val_accuracy: 0.7000\n",
      "Epoch 114/200\n",
      "126/126 [==============================] - 0s 238us/sample - loss: 0.3307 - accuracy: 0.9048 - val_loss: 0.6527 - val_accuracy: 0.7000\n",
      "Epoch 115/200\n",
      "126/126 [==============================] - 0s 222us/sample - loss: 0.3275 - accuracy: 0.9127 - val_loss: 0.6553 - val_accuracy: 0.7000\n",
      "Epoch 116/200\n",
      "126/126 [==============================] - 0s 278us/sample - loss: 0.3265 - accuracy: 0.9048 - val_loss: 0.6642 - val_accuracy: 0.7000\n",
      "Epoch 117/200\n",
      "126/126 [==============================] - 0s 262us/sample - loss: 0.3253 - accuracy: 0.9127 - val_loss: 0.6622 - val_accuracy: 0.7000\n",
      "Epoch 118/200\n",
      "126/126 [==============================] - 0s 254us/sample - loss: 0.3234 - accuracy: 0.9127 - val_loss: 0.6645 - val_accuracy: 0.7000\n",
      "Epoch 119/200\n",
      "126/126 [==============================] - 0s 246us/sample - loss: 0.3217 - accuracy: 0.9127 - val_loss: 0.6664 - val_accuracy: 0.7000\n",
      "Epoch 120/200\n",
      "126/126 [==============================] - 0s 246us/sample - loss: 0.3203 - accuracy: 0.9206 - val_loss: 0.6663 - val_accuracy: 0.7000\n",
      "Epoch 121/200\n",
      "126/126 [==============================] - 0s 246us/sample - loss: 0.3191 - accuracy: 0.9206 - val_loss: 0.6674 - val_accuracy: 0.7000\n",
      "Epoch 122/200\n",
      "126/126 [==============================] - 0s 254us/sample - loss: 0.3172 - accuracy: 0.9206 - val_loss: 0.6703 - val_accuracy: 0.7000\n",
      "Epoch 123/200\n",
      "126/126 [==============================] - 0s 293us/sample - loss: 0.3160 - accuracy: 0.9206 - val_loss: 0.6743 - val_accuracy: 0.7000\n",
      "Epoch 124/200\n",
      "126/126 [==============================] - 0s 238us/sample - loss: 0.3155 - accuracy: 0.9206 - val_loss: 0.6705 - val_accuracy: 0.7000\n",
      "Epoch 125/200\n",
      "126/126 [==============================] - 0s 238us/sample - loss: 0.3141 - accuracy: 0.9206 - val_loss: 0.6688 - val_accuracy: 0.7000\n",
      "Epoch 126/200\n",
      "126/126 [==============================] - 0s 317us/sample - loss: 0.3119 - accuracy: 0.9206 - val_loss: 0.6737 - val_accuracy: 0.7000\n",
      "Epoch 127/200\n",
      "126/126 [==============================] - 0s 286us/sample - loss: 0.3107 - accuracy: 0.9206 - val_loss: 0.6758 - val_accuracy: 0.7000\n",
      "Epoch 128/200\n",
      "126/126 [==============================] - 0s 262us/sample - loss: 0.3104 - accuracy: 0.9206 - val_loss: 0.6801 - val_accuracy: 0.7000\n",
      "Epoch 129/200\n",
      "126/126 [==============================] - 0s 246us/sample - loss: 0.3082 - accuracy: 0.9206 - val_loss: 0.6822 - val_accuracy: 0.7000\n",
      "Epoch 130/200\n",
      "126/126 [==============================] - 0s 254us/sample - loss: 0.3070 - accuracy: 0.9206 - val_loss: 0.6829 - val_accuracy: 0.7000\n",
      "Epoch 131/200\n",
      "126/126 [==============================] - 0s 278us/sample - loss: 0.3054 - accuracy: 0.9206 - val_loss: 0.6819 - val_accuracy: 0.7000\n",
      "Epoch 132/200\n",
      "126/126 [==============================] - 0s 286us/sample - loss: 0.3042 - accuracy: 0.9206 - val_loss: 0.6794 - val_accuracy: 0.7000\n",
      "Epoch 133/200\n",
      "126/126 [==============================] - 0s 278us/sample - loss: 0.3029 - accuracy: 0.9286 - val_loss: 0.6802 - val_accuracy: 0.7000\n",
      "Epoch 134/200\n",
      "126/126 [==============================] - 0s 246us/sample - loss: 0.3018 - accuracy: 0.9286 - val_loss: 0.6821 - val_accuracy: 0.7000\n",
      "Epoch 135/200\n",
      "126/126 [==============================] - 0s 286us/sample - loss: 0.3006 - accuracy: 0.9286 - val_loss: 0.6866 - val_accuracy: 0.7000\n",
      "Epoch 136/200\n",
      "126/126 [==============================] - 0s 349us/sample - loss: 0.2994 - accuracy: 0.9206 - val_loss: 0.6897 - val_accuracy: 0.7000\n",
      "Epoch 137/200\n",
      "126/126 [==============================] - 0s 309us/sample - loss: 0.2985 - accuracy: 0.9206 - val_loss: 0.6888 - val_accuracy: 0.7000\n",
      "Epoch 138/200\n",
      "126/126 [==============================] - 0s 389us/sample - loss: 0.2978 - accuracy: 0.9286 - val_loss: 0.6858 - val_accuracy: 0.7000\n",
      "Epoch 139/200\n",
      "126/126 [==============================] - 0s 262us/sample - loss: 0.2958 - accuracy: 0.9286 - val_loss: 0.6910 - val_accuracy: 0.7000\n",
      "Epoch 140/200\n",
      "126/126 [==============================] - 0s 254us/sample - loss: 0.2942 - accuracy: 0.9206 - val_loss: 0.6953 - val_accuracy: 0.7000\n",
      "Epoch 141/200\n",
      "126/126 [==============================] - 0s 278us/sample - loss: 0.2935 - accuracy: 0.9206 - val_loss: 0.6975 - val_accuracy: 0.7000\n",
      "Epoch 142/200\n",
      "126/126 [==============================] - 0s 317us/sample - loss: 0.2929 - accuracy: 0.9286 - val_loss: 0.6987 - val_accuracy: 0.7000\n",
      "Epoch 143/200\n",
      "126/126 [==============================] - 0s 301us/sample - loss: 0.2913 - accuracy: 0.9286 - val_loss: 0.6960 - val_accuracy: 0.7000\n",
      "Epoch 144/200\n",
      "126/126 [==============================] - 0s 254us/sample - loss: 0.2897 - accuracy: 0.9286 - val_loss: 0.6974 - val_accuracy: 0.7000\n",
      "Epoch 145/200\n",
      "126/126 [==============================] - 0s 230us/sample - loss: 0.2887 - accuracy: 0.9286 - val_loss: 0.6983 - val_accuracy: 0.7000\n",
      "Epoch 146/200\n",
      "126/126 [==============================] - 0s 238us/sample - loss: 0.2875 - accuracy: 0.9286 - val_loss: 0.6997 - val_accuracy: 0.7000\n",
      "Epoch 147/200\n",
      "126/126 [==============================] - 0s 238us/sample - loss: 0.2899 - accuracy: 0.9286 - val_loss: 0.7074 - val_accuracy: 0.7000\n",
      "Epoch 148/200\n",
      "126/126 [==============================] - 0s 238us/sample - loss: 0.2852 - accuracy: 0.9286 - val_loss: 0.7016 - val_accuracy: 0.7000\n",
      "Epoch 149/200\n",
      "126/126 [==============================] - 0s 254us/sample - loss: 0.2840 - accuracy: 0.9286 - val_loss: 0.7006 - val_accuracy: 0.7500\n",
      "Epoch 150/200\n",
      "126/126 [==============================] - 0s 206us/sample - loss: 0.2837 - accuracy: 0.9286 - val_loss: 0.6978 - val_accuracy: 0.7500\n",
      "Epoch 151/200\n",
      "126/126 [==============================] - 0s 270us/sample - loss: 0.2830 - accuracy: 0.9286 - val_loss: 0.7037 - val_accuracy: 0.7500\n",
      "Epoch 152/200\n",
      "126/126 [==============================] - 0s 286us/sample - loss: 0.2808 - accuracy: 0.9286 - val_loss: 0.7086 - val_accuracy: 0.7000\n",
      "Epoch 153/200\n",
      "126/126 [==============================] - 0s 278us/sample - loss: 0.2802 - accuracy: 0.9286 - val_loss: 0.7102 - val_accuracy: 0.7000\n",
      "Epoch 154/200\n",
      "126/126 [==============================] - 0s 222us/sample - loss: 0.2788 - accuracy: 0.9286 - val_loss: 0.7161 - val_accuracy: 0.7000\n",
      "Epoch 155/200\n",
      "126/126 [==============================] - 0s 222us/sample - loss: 0.2780 - accuracy: 0.9286 - val_loss: 0.7146 - val_accuracy: 0.7000\n",
      "Epoch 156/200\n",
      "126/126 [==============================] - 0s 246us/sample - loss: 0.2764 - accuracy: 0.9286 - val_loss: 0.7152 - val_accuracy: 0.7000\n",
      "Epoch 157/200\n",
      "126/126 [==============================] - 0s 262us/sample - loss: 0.2760 - accuracy: 0.9286 - val_loss: 0.7126 - val_accuracy: 0.7500\n",
      "Epoch 158/200\n",
      "126/126 [==============================] - 0s 270us/sample - loss: 0.2745 - accuracy: 0.9286 - val_loss: 0.7144 - val_accuracy: 0.7500\n",
      "Epoch 159/200\n",
      "126/126 [==============================] - 0s 301us/sample - loss: 0.2746 - accuracy: 0.9286 - val_loss: 0.7238 - val_accuracy: 0.7000\n",
      "Epoch 160/200\n",
      "126/126 [==============================] - 0s 262us/sample - loss: 0.2752 - accuracy: 0.9286 - val_loss: 0.7281 - val_accuracy: 0.7000\n",
      "Epoch 161/200\n",
      "126/126 [==============================] - 0s 246us/sample - loss: 0.2717 - accuracy: 0.9365 - val_loss: 0.7201 - val_accuracy: 0.7500\n",
      "Epoch 162/200\n",
      "126/126 [==============================] - 0s 270us/sample - loss: 0.2703 - accuracy: 0.9286 - val_loss: 0.7193 - val_accuracy: 0.7500\n",
      "Epoch 163/200\n",
      "126/126 [==============================] - 0s 254us/sample - loss: 0.2720 - accuracy: 0.9286 - val_loss: 0.7151 - val_accuracy: 0.7500\n",
      "Epoch 164/200\n",
      "126/126 [==============================] - 0s 262us/sample - loss: 0.2695 - accuracy: 0.9286 - val_loss: 0.7262 - val_accuracy: 0.7500\n",
      "Epoch 165/200\n",
      "126/126 [==============================] - 0s 254us/sample - loss: 0.2673 - accuracy: 0.9286 - val_loss: 0.7303 - val_accuracy: 0.7000\n",
      "Epoch 166/200\n"
     ]
    },
    {
     "name": "stdout",
     "output_type": "stream",
     "text": [
      "126/126 [==============================] - 0s 238us/sample - loss: 0.2666 - accuracy: 0.9286 - val_loss: 0.7295 - val_accuracy: 0.7000\n",
      "Epoch 167/200\n",
      "126/126 [==============================] - 0s 286us/sample - loss: 0.2667 - accuracy: 0.9286 - val_loss: 0.7290 - val_accuracy: 0.7500\n",
      "Epoch 168/200\n",
      "126/126 [==============================] - 0s 238us/sample - loss: 0.2649 - accuracy: 0.9286 - val_loss: 0.7358 - val_accuracy: 0.7000\n",
      "Epoch 169/200\n",
      "126/126 [==============================] - 0s 246us/sample - loss: 0.2640 - accuracy: 0.9286 - val_loss: 0.7334 - val_accuracy: 0.7500\n",
      "Epoch 170/200\n",
      "126/126 [==============================] - 0s 254us/sample - loss: 0.2629 - accuracy: 0.9286 - val_loss: 0.7354 - val_accuracy: 0.7500\n",
      "Epoch 171/200\n",
      "126/126 [==============================] - 0s 246us/sample - loss: 0.2648 - accuracy: 0.9286 - val_loss: 0.7423 - val_accuracy: 0.7000\n",
      "Epoch 172/200\n",
      "126/126 [==============================] - 0s 214us/sample - loss: 0.2627 - accuracy: 0.9286 - val_loss: 0.7321 - val_accuracy: 0.7500\n",
      "Epoch 173/200\n",
      "126/126 [==============================] - 0s 230us/sample - loss: 0.2603 - accuracy: 0.9286 - val_loss: 0.7307 - val_accuracy: 0.7500\n",
      "Epoch 174/200\n",
      "126/126 [==============================] - 0s 222us/sample - loss: 0.2595 - accuracy: 0.9286 - val_loss: 0.7323 - val_accuracy: 0.7500\n",
      "Epoch 175/200\n",
      "126/126 [==============================] - 0s 198us/sample - loss: 0.2579 - accuracy: 0.9286 - val_loss: 0.7383 - val_accuracy: 0.7500\n",
      "Epoch 176/200\n",
      "126/126 [==============================] - 0s 230us/sample - loss: 0.2575 - accuracy: 0.9286 - val_loss: 0.7489 - val_accuracy: 0.7000\n",
      "Epoch 177/200\n",
      "126/126 [==============================] - 0s 230us/sample - loss: 0.2567 - accuracy: 0.9365 - val_loss: 0.7536 - val_accuracy: 0.7000\n",
      "Epoch 178/200\n",
      "126/126 [==============================] - 0s 222us/sample - loss: 0.2562 - accuracy: 0.9365 - val_loss: 0.7529 - val_accuracy: 0.7000\n",
      "Epoch 179/200\n",
      "126/126 [==============================] - 0s 246us/sample - loss: 0.2545 - accuracy: 0.9286 - val_loss: 0.7470 - val_accuracy: 0.7500\n",
      "Epoch 180/200\n",
      "126/126 [==============================] - 0s 246us/sample - loss: 0.2537 - accuracy: 0.9286 - val_loss: 0.7423 - val_accuracy: 0.7500\n",
      "Epoch 181/200\n",
      "126/126 [==============================] - 0s 246us/sample - loss: 0.2532 - accuracy: 0.9286 - val_loss: 0.7435 - val_accuracy: 0.7500\n",
      "Epoch 182/200\n",
      "126/126 [==============================] - 0s 254us/sample - loss: 0.2520 - accuracy: 0.9286 - val_loss: 0.7483 - val_accuracy: 0.7500\n",
      "Epoch 183/200\n",
      "126/126 [==============================] - 0s 286us/sample - loss: 0.2511 - accuracy: 0.9286 - val_loss: 0.7496 - val_accuracy: 0.7500\n",
      "Epoch 184/200\n",
      "126/126 [==============================] - 0s 230us/sample - loss: 0.2507 - accuracy: 0.9286 - val_loss: 0.7574 - val_accuracy: 0.7500\n",
      "Epoch 185/200\n",
      "126/126 [==============================] - 0s 230us/sample - loss: 0.2494 - accuracy: 0.9286 - val_loss: 0.7594 - val_accuracy: 0.7500\n",
      "Epoch 186/200\n",
      "126/126 [==============================] - 0s 238us/sample - loss: 0.2488 - accuracy: 0.9286 - val_loss: 0.7609 - val_accuracy: 0.7500\n",
      "Epoch 187/200\n",
      "126/126 [==============================] - 0s 246us/sample - loss: 0.2476 - accuracy: 0.9286 - val_loss: 0.7557 - val_accuracy: 0.7500\n",
      "Epoch 188/200\n",
      "126/126 [==============================] - 0s 238us/sample - loss: 0.2497 - accuracy: 0.9286 - val_loss: 0.7486 - val_accuracy: 0.7500\n",
      "Epoch 189/200\n",
      "126/126 [==============================] - 0s 206us/sample - loss: 0.2471 - accuracy: 0.9286 - val_loss: 0.7590 - val_accuracy: 0.7500\n",
      "Epoch 190/200\n",
      "126/126 [==============================] - 0s 254us/sample - loss: 0.2447 - accuracy: 0.9286 - val_loss: 0.7642 - val_accuracy: 0.7500\n",
      "Epoch 191/200\n",
      "126/126 [==============================] - 0s 230us/sample - loss: 0.2444 - accuracy: 0.9365 - val_loss: 0.7675 - val_accuracy: 0.7500\n",
      "Epoch 192/200\n",
      "126/126 [==============================] - 0s 254us/sample - loss: 0.2438 - accuracy: 0.9286 - val_loss: 0.7653 - val_accuracy: 0.7500\n",
      "Epoch 193/200\n",
      "126/126 [==============================] - 0s 214us/sample - loss: 0.2440 - accuracy: 0.9286 - val_loss: 0.7602 - val_accuracy: 0.7500\n",
      "Epoch 194/200\n",
      "126/126 [==============================] - 0s 262us/sample - loss: 0.2421 - accuracy: 0.9286 - val_loss: 0.7653 - val_accuracy: 0.7500\n",
      "Epoch 195/200\n",
      "126/126 [==============================] - 0s 246us/sample - loss: 0.2419 - accuracy: 0.9286 - val_loss: 0.7738 - val_accuracy: 0.7500\n",
      "Epoch 196/200\n",
      "126/126 [==============================] - 0s 262us/sample - loss: 0.2402 - accuracy: 0.9365 - val_loss: 0.7728 - val_accuracy: 0.7500\n",
      "Epoch 197/200\n",
      "126/126 [==============================] - 0s 270us/sample - loss: 0.2414 - accuracy: 0.9286 - val_loss: 0.7654 - val_accuracy: 0.7500\n",
      "Epoch 198/200\n",
      "126/126 [==============================] - 0s 254us/sample - loss: 0.2388 - accuracy: 0.9286 - val_loss: 0.7688 - val_accuracy: 0.7500\n",
      "Epoch 199/200\n",
      "126/126 [==============================] - 0s 301us/sample - loss: 0.2389 - accuracy: 0.9286 - val_loss: 0.7756 - val_accuracy: 0.7500\n",
      "Epoch 200/200\n",
      "126/126 [==============================] - 0s 293us/sample - loss: 0.2370 - accuracy: 0.9286 - val_loss: 0.7746 - val_accuracy: 0.7500\n"
     ]
    }
   ],
   "source": [
    "history = model.fit(traindata , trainlabel , epochs=200,validation_data = (valdata,validlabel))"
   ]
  },
  {
   "cell_type": "code",
   "execution_count": 16,
   "metadata": {},
   "outputs": [
    {
     "name": "stdout",
     "output_type": "stream",
     "text": [
      "62/1 - 0s - loss: 0.3837 - accuracy: 0.7581\n"
     ]
    }
   ],
   "source": [
    "result = model.evaluate(testdata, testlabel,verbose=2)"
   ]
  },
  {
   "cell_type": "code",
   "execution_count": 18,
   "metadata": {},
   "outputs": [
    {
     "data": {
      "image/png": "[encoded data removed]",
      "text/plain": [
       "<Figure size 432x288 with 1 Axes>"
      ]
     },
     "metadata": {
      "needs_background": "light"
     },
     "output_type": "display_data"
    }
   ],
   "source": [
    "import matplotlib.pyplot as plt\n",
    "loss = history.history[\"loss\"]\n",
    "val_loss = history.history[\"val_loss\"]\n",
    "epochs = range(1, len(loss) + 1)\n",
    "plt.plot(epochs, loss, \"bo\",label = \"Training Loss\")\n",
    "plt.plot(epochs, val_loss, \"b\",label = \"Validation Loss\")\n",
    "plt.title(\"Training and Validation Loss\")\n",
    "plt.xlabel(\"Epochs\")\n",
    "plt.ylabel(\"Loss\")\n",
    "plt.legend()\n",
    "plt.show()"
   ]
  },
  {
   "cell_type": "code",
   "execution_count": 19,
   "metadata": {},
   "outputs": [
    {
     "data": {
      "image/png": "[encoded data removed]",
      "text/plain": [
       "<Figure size 432x288 with 1 Axes>"
      ]
     },
     "metadata": {
      "needs_background": "light"
     },
     "output_type": "display_data"
    }
   ],
   "source": [
    "import matplotlib.pyplot as plt\n",
    "loss = history.history[\"accuracy\"]\n",
    "val_loss = history.history[\"val_accuracy\"]\n",
    "epochs = range(1, len(loss) + 1)\n",
    "plt.plot(epochs, loss, \"bo\",label = \"Training Accuracy\")\n",
    "plt.plot(epochs, val_loss, \"b\",label = \"Validation Accuracy\")\n",
    "plt.title(\"Training and Validation Accuracy\")\n",
    "plt.xlabel(\"Epochs\")\n",
    "plt.ylabel(\"Accuracy\")\n",
    "plt.legend()\n",
    "plt.show()"
   ]
  },
  {
   "cell_type": "code",
   "execution_count": null,
   "metadata": {},
   "outputs": [],
   "source": []
  },
  {
   "cell_type": "code",
   "execution_count": null,
   "metadata": {},
   "outputs": [],
   "source": []
  },
  {
   "cell_type": "code",
   "execution_count": null,
   "metadata": {},
   "outputs": [],
   "source": []
  },
  {
   "cell_type": "code",
   "execution_count": null,
   "metadata": {},
   "outputs": [],
   "source": []
  },
  {
   "cell_type": "code",
   "execution_count": null,
   "metadata": {},
   "outputs": [],
   "source": []
  }
 ],
 "metadata": {
  "kernelspec": {
   "display_name": "Python 3",
   "language": "python",
   "name": "python3"
  },
  "language_info": {
   "codemirror_mode": {
    "name": "ipython",
    "version": 3
   },
   "file_extension": ".py",
   "mimetype": "text/x-python",
   "name": "python",
   "nbconvert_exporter": "python",
   "pygments_lexer": "ipython3",
   "version": "3.7.3"
  }
 },
 "nbformat": 4,
 "nbformat_minor": 2
}
