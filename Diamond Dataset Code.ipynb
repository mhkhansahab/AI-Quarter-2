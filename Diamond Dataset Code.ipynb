{
 "cells": [
  {
   "cell_type": "code",
   "execution_count": 1,
   "metadata": {},
   "outputs": [],
   "source": [
    "import pandas as pd\n",
    "import numpy as np"
   ]
  },
  {
   "cell_type": "code",
   "execution_count": 2,
   "metadata": {},
   "outputs": [],
   "source": [
    "diamonds_data = pd.read_csv(\"F:\\\\Datasets\\\\diamonds\\\\diamonds.csv\")"
   ]
  },
  {
   "cell_type": "code",
   "execution_count": 3,
   "metadata": {},
   "outputs": [],
   "source": [
    "data = diamonds_data.drop(columns = ['Unnamed: 0'])\n",
    "#data = diamonds_data.drop(columns = ['Unnamed: 0','clarity','color'])\n",
    "data = data.rename(columns = {\"x\":'length(mm)',\"y\": 'width(mm)',\"z\":'depth(mm)'})\n",
    "data = data.sample(frac = 1)"
   ]
  },
  {
   "cell_type": "code",
   "execution_count": null,
   "metadata": {},
   "outputs": [],
   "source": []
  },
  {
   "cell_type": "code",
   "execution_count": 4,
   "metadata": {},
   "outputs": [],
   "source": [
    "data[\"clarity\"] = np.where(data[\"clarity\"] == \"I1\",0.1,data[\"clarity\"])\n",
    "data[\"clarity\"] = np.where(data[\"clarity\"] == \"IF\",0.2,data[\"clarity\"])\n",
    "data[\"clarity\"] = np.where(data[\"clarity\"] == \"SI1\",0.3,data[\"clarity\"])\n",
    "data[\"clarity\"] = np.where(data[\"clarity\"] == \"SI2\",0.4,data[\"clarity\"])\n",
    "data[\"clarity\"] = np.where(data[\"clarity\"] == \"VS1\",0.5,data[\"clarity\"])\n",
    "data[\"clarity\"] = np.where(data[\"clarity\"] == \"VS2\",0.6,data[\"clarity\"])\n",
    "data[\"clarity\"] = np.where(data[\"clarity\"] == \"VVS1\",0.7,data[\"clarity\"])\n",
    "data[\"clarity\"] = np.where(data[\"clarity\"] == \"VVS2\",0.8,data[\"clarity\"])"
   ]
  },
  {
   "cell_type": "code",
   "execution_count": 5,
   "metadata": {},
   "outputs": [],
   "source": [
    "data[\"cut\"] = np.where(data[\"cut\"] == \"Fair\",0,data[\"cut\"])\n",
    "data[\"cut\"] = np.where(data[\"cut\"] == \"Good\",1,data[\"cut\"])\n",
    "data[\"cut\"] = np.where(data[\"cut\"] == \"Ideal\",2,data[\"cut\"])\n",
    "data[\"cut\"] = np.where(data[\"cut\"] == \"Premium\",3,data[\"cut\"])\n",
    "data[\"cut\"] = np.where(data[\"cut\"] == \"Very Good\",4,data[\"cut\"])"
   ]
  },
  {
   "cell_type": "code",
   "execution_count": 6,
   "metadata": {},
   "outputs": [],
   "source": [
    "data[\"color\"] = np.where(data[\"color\"] == \"D\",0.1,data[\"color\"])\n",
    "data[\"color\"] = np.where(data[\"color\"] == \"E\",0.2,data[\"color\"])\n",
    "data[\"color\"] = np.where(data[\"color\"] == \"F\",0.3,data[\"color\"])\n",
    "data[\"color\"] = np.where(data[\"color\"] == \"G\",0.4,data[\"color\"])\n",
    "data[\"color\"] = np.where(data[\"color\"] == \"H\",0.5,data[\"color\"])\n",
    "data[\"color\"] = np.where(data[\"color\"] == \"I\",0.6,data[\"color\"])\n",
    "data[\"color\"] = np.where(data[\"color\"] == \"J\",0.7,data[\"color\"])"
   ]
  },
  {
   "cell_type": "code",
   "execution_count": null,
   "metadata": {},
   "outputs": [],
   "source": []
  },
  {
   "cell_type": "code",
   "execution_count": null,
   "metadata": {},
   "outputs": [],
   "source": []
  },
  {
   "cell_type": "code",
   "execution_count": 7,
   "metadata": {},
   "outputs": [],
   "source": [
    "whole_data = pd.concat([data.iloc[:,0].astype(\"float32\") , data.iloc[:,2:].astype(\"float32\")],axis = 1)\n",
    "whole_data = whole_data.values\n",
    "whole_data = whole_data/whole_data.max()"
   ]
  },
  {
   "cell_type": "code",
   "execution_count": null,
   "metadata": {},
   "outputs": [],
   "source": []
  },
  {
   "cell_type": "code",
   "execution_count": 8,
   "metadata": {},
   "outputs": [],
   "source": [
    "train_data = whole_data[:37758]\n",
    "valid_data = whole_data[37758:48546]\n",
    "test_data = whole_data[48546:]"
   ]
  },
  {
   "cell_type": "code",
   "execution_count": 9,
   "metadata": {},
   "outputs": [],
   "source": [
    "whole_label = data.iloc[:,1].astype(\"int32\")\n",
    "whole_label = whole_label.values"
   ]
  },
  {
   "cell_type": "code",
   "execution_count": 10,
   "metadata": {},
   "outputs": [],
   "source": [
    "train_label = whole_label[:37758]\n",
    "valid_label = whole_label[37758:48546]\n",
    "test_label = whole_label[48546:]"
   ]
  },
  {
   "cell_type": "code",
   "execution_count": 11,
   "metadata": {},
   "outputs": [
    {
     "name": "stderr",
     "output_type": "stream",
     "text": [
      "Using TensorFlow backend.\n"
     ]
    }
   ],
   "source": [
    "from keras import models\n",
    "from keras import layers"
   ]
  },
  {
   "cell_type": "code",
   "execution_count": 12,
   "metadata": {},
   "outputs": [],
   "source": [
    "model = models.Sequential()\n",
    "model.add(layers.Dense(1028,input_shape = (9,)))\n",
    "model.add(layers.Dense(512, activation = \"relu\"))\n",
    "model.add(layers.Dense(256, activation = \"relu\"))\n",
    "model.add(layers.Dense(64, activation = \"relu\"))\n",
    "model.add(layers.Dense(5, activation = \"softmax\"))"
   ]
  },
  {
   "cell_type": "code",
   "execution_count": 13,
   "metadata": {},
   "outputs": [],
   "source": [
    "model.compile(optimizer = \"adam\",loss = \"sparse_categorical_crossentropy\", metrics = [\"accuracy\"])"
   ]
  },
  {
   "cell_type": "code",
   "execution_count": 14,
   "metadata": {},
   "outputs": [
    {
     "name": "stdout",
     "output_type": "stream",
     "text": [
      "Train on 37758 samples, validate on 10788 samples\n",
      "Epoch 1/100\n",
      "37758/37758 [==============================] - 12s 317us/step - loss: 1.4039 - accuracy: 0.3951 - val_loss: 1.3728 - val_accuracy: 0.3956\n",
      "Epoch 2/100\n",
      "37758/37758 [==============================] - 12s 324us/step - loss: 1.3587 - accuracy: 0.4008 - val_loss: 1.3696 - val_accuracy: 0.3965\n",
      "Epoch 3/100\n",
      "37758/37758 [==============================] - 11s 303us/step - loss: 1.3558 - accuracy: 0.4018 - val_loss: 1.3684 - val_accuracy: 0.3999\n",
      "Epoch 4/100\n",
      "37758/37758 [==============================] - 11s 297us/step - loss: 1.3552 - accuracy: 0.4015 - val_loss: 1.3666 - val_accuracy: 0.4010\n",
      "Epoch 5/100\n",
      "37758/37758 [==============================] - 11s 295us/step - loss: 1.3544 - accuracy: 0.4008 - val_loss: 1.3669 - val_accuracy: 0.3956\n",
      "Epoch 6/100\n",
      "37758/37758 [==============================] - 11s 302us/step - loss: 1.3535 - accuracy: 0.4018 - val_loss: 1.3650 - val_accuracy: 0.3956\n",
      "Epoch 7/100\n",
      "37758/37758 [==============================] - 11s 295us/step - loss: 1.3535 - accuracy: 0.4013 - val_loss: 1.3669 - val_accuracy: 0.3956\n",
      "Epoch 8/100\n",
      "37758/37758 [==============================] - 11s 295us/step - loss: 1.3508 - accuracy: 0.4016 - val_loss: 1.3617 - val_accuracy: 0.3956\n",
      "Epoch 9/100\n",
      "37758/37758 [==============================] - 11s 304us/step - loss: 1.3490 - accuracy: 0.4016 - val_loss: 1.3579 - val_accuracy: 0.3956\n",
      "Epoch 10/100\n",
      "37758/37758 [==============================] - 12s 310us/step - loss: 1.3476 - accuracy: 0.4015 - val_loss: 1.3595 - val_accuracy: 0.3956\n",
      "Epoch 11/100\n",
      "37758/37758 [==============================] - 12s 311us/step - loss: 1.3475 - accuracy: 0.3980 - val_loss: 1.3618 - val_accuracy: 0.4006\n",
      "Epoch 12/100\n",
      "37758/37758 [==============================] - 12s 313us/step - loss: 1.3457 - accuracy: 0.3993 - val_loss: 1.3633 - val_accuracy: 0.3955\n",
      "Epoch 13/100\n",
      "37758/37758 [==============================] - 12s 314us/step - loss: 1.3472 - accuracy: 0.4011 - val_loss: 1.3574 - val_accuracy: 0.3955\n",
      "Epoch 14/100\n",
      "37758/37758 [==============================] - 15s 401us/step - loss: 1.3452 - accuracy: 0.3993 - val_loss: 1.3575 - val_accuracy: 0.3949\n",
      "Epoch 15/100\n",
      "37758/37758 [==============================] - 14s 377us/step - loss: 1.3444 - accuracy: 0.4034 - val_loss: 1.3576 - val_accuracy: 0.3966\n",
      "Epoch 16/100\n",
      "37758/37758 [==============================] - 14s 371us/step - loss: 1.3437 - accuracy: 0.4047 - val_loss: 1.3582 - val_accuracy: 0.3961\n",
      "Epoch 17/100\n",
      "37758/37758 [==============================] - 16s 432us/step - loss: 1.3446 - accuracy: 0.4020 - val_loss: 1.3557 - val_accuracy: 0.3944\n",
      "Epoch 18/100\n",
      "37758/37758 [==============================] - 17s 438us/step - loss: 1.3432 - accuracy: 0.4034 - val_loss: 1.3568 - val_accuracy: 0.3952\n",
      "Epoch 19/100\n",
      "37758/37758 [==============================] - 14s 366us/step - loss: 1.3425 - accuracy: 0.4033 - val_loss: 1.3574 - val_accuracy: 0.3963\n",
      "Epoch 20/100\n",
      "37758/37758 [==============================] - 16s 414us/step - loss: 1.3427 - accuracy: 0.4017 - val_loss: 1.3546 - val_accuracy: 0.3999\n",
      "Epoch 21/100\n",
      "37758/37758 [==============================] - 16s 416us/step - loss: 1.3443 - accuracy: 0.4051 - val_loss: 1.3570 - val_accuracy: 0.3969\n",
      "Epoch 22/100\n",
      "37758/37758 [==============================] - 14s 377us/step - loss: 1.3427 - accuracy: 0.4055 - val_loss: 1.3565 - val_accuracy: 0.3978\n",
      "Epoch 23/100\n",
      "37758/37758 [==============================] - 13s 338us/step - loss: 1.3426 - accuracy: 0.4023 - val_loss: 1.3580 - val_accuracy: 0.3995\n",
      "Epoch 24/100\n",
      "37758/37758 [==============================] - 13s 333us/step - loss: 1.3420 - accuracy: 0.4036 - val_loss: 1.3567 - val_accuracy: 0.3947\n",
      "Epoch 25/100\n",
      "37758/37758 [==============================] - 13s 332us/step - loss: 1.3420 - accuracy: 0.4045 - val_loss: 1.3560 - val_accuracy: 0.4016\n",
      "Epoch 26/100\n",
      "37758/37758 [==============================] - 13s 331us/step - loss: 1.3423 - accuracy: 0.4056 - val_loss: 1.3551 - val_accuracy: 0.3962\n",
      "Epoch 27/100\n",
      "37758/37758 [==============================] - 13s 348us/step - loss: 1.3426 - accuracy: 0.4048 - val_loss: 1.3583 - val_accuracy: 0.3945\n",
      "Epoch 28/100\n",
      "37758/37758 [==============================] - 12s 329us/step - loss: 1.3422 - accuracy: 0.4050 - val_loss: 1.3562 - val_accuracy: 0.3947\n",
      "Epoch 29/100\n",
      "37758/37758 [==============================] - 13s 343us/step - loss: 1.3415 - accuracy: 0.4052 - val_loss: 1.3536 - val_accuracy: 0.4016\n",
      "Epoch 30/100\n",
      "37758/37758 [==============================] - 12s 309us/step - loss: 1.3412 - accuracy: 0.4048 - val_loss: 1.3582 - val_accuracy: 0.3976\n",
      "Epoch 31/100\n",
      "37758/37758 [==============================] - 12s 310us/step - loss: 1.3419 - accuracy: 0.4046 - val_loss: 1.3546 - val_accuracy: 0.3953\n",
      "Epoch 32/100\n",
      "37758/37758 [==============================] - 12s 319us/step - loss: 1.3409 - accuracy: 0.4059 - val_loss: 1.3557 - val_accuracy: 0.4028\n",
      "Epoch 33/100\n",
      "37758/37758 [==============================] - 14s 367us/step - loss: 1.3420 - accuracy: 0.4058 - val_loss: 1.3537 - val_accuracy: 0.4014\n",
      "Epoch 34/100\n",
      "37758/37758 [==============================] - 18s 475us/step - loss: 1.3421 - accuracy: 0.4046 - val_loss: 1.3563 - val_accuracy: 0.3971\n",
      "Epoch 35/100\n",
      "37758/37758 [==============================] - 17s 441us/step - loss: 1.3407 - accuracy: 0.4061 - val_loss: 1.3565 - val_accuracy: 0.3948\n",
      "Epoch 36/100\n",
      "37758/37758 [==============================] - 14s 362us/step - loss: 1.3417 - accuracy: 0.4069 - val_loss: 1.3541 - val_accuracy: 0.3979\n",
      "Epoch 37/100\n",
      "37758/37758 [==============================] - 17s 453us/step - loss: 1.3405 - accuracy: 0.4067 - val_loss: 1.3535 - val_accuracy: 0.3990\n",
      "Epoch 38/100\n",
      "37758/37758 [==============================] - 16s 435us/step - loss: 1.3405 - accuracy: 0.4033 - val_loss: 1.3551 - val_accuracy: 0.3992\n",
      "Epoch 39/100\n",
      "37758/37758 [==============================] - 18s 478us/step - loss: 1.3405 - accuracy: 0.4074 - val_loss: 1.3518 - val_accuracy: 0.3984\n",
      "Epoch 40/100\n",
      "37758/37758 [==============================] - 13s 339us/step - loss: 1.3410 - accuracy: 0.4063 - val_loss: 1.3535 - val_accuracy: 0.4014\n",
      "Epoch 41/100\n",
      "37758/37758 [==============================] - 16s 424us/step - loss: 1.3395 - accuracy: 0.4061 - val_loss: 1.3523 - val_accuracy: 0.4049\n",
      "Epoch 42/100\n",
      "37758/37758 [==============================] - 18s 487us/step - loss: 1.3409 - accuracy: 0.4056 - val_loss: 1.3526 - val_accuracy: 0.3969\n",
      "Epoch 43/100\n",
      "37758/37758 [==============================] - 13s 351us/step - loss: 1.3398 - accuracy: 0.4069 - val_loss: 1.3516 - val_accuracy: 0.3998\n",
      "Epoch 44/100\n",
      "37758/37758 [==============================] - 19s 492us/step - loss: 1.3399 - accuracy: 0.4052 - val_loss: 1.3545 - val_accuracy: 0.4004\n",
      "Epoch 45/100\n",
      "37758/37758 [==============================] - 19s 503us/step - loss: 1.3396 - accuracy: 0.4078 - val_loss: 1.3535 - val_accuracy: 0.3977\n",
      "Epoch 46/100\n",
      "37758/37758 [==============================] - 22s 574us/step - loss: 1.3408 - accuracy: 0.4060 - val_loss: 1.3510 - val_accuracy: 0.4002\n",
      "Epoch 47/100\n",
      "37758/37758 [==============================] - 16s 421us/step - loss: 1.3385 - accuracy: 0.4076 - val_loss: 1.3544 - val_accuracy: 0.3996\n",
      "Epoch 48/100\n",
      "37758/37758 [==============================] - 20s 542us/step - loss: 1.3374 - accuracy: 0.4080 - val_loss: 1.3541 - val_accuracy: 0.3964\n",
      "Epoch 49/100\n",
      "37758/37758 [==============================] - 18s 487us/step - loss: 1.3372 - accuracy: 0.4092 - val_loss: 1.3567 - val_accuracy: 0.3994\n",
      "Epoch 50/100\n",
      "37758/37758 [==============================] - 16s 430us/step - loss: 1.3373 - accuracy: 0.4074 - val_loss: 1.3470 - val_accuracy: 0.4043\n",
      "Epoch 51/100\n",
      "37758/37758 [==============================] - 17s 457us/step - loss: 1.3326 - accuracy: 0.4114 - val_loss: 1.3502 - val_accuracy: 0.4041\n",
      "Epoch 52/100\n",
      "37758/37758 [==============================] - 17s 440us/step - loss: 1.3332 - accuracy: 0.4109 - val_loss: 1.3441 - val_accuracy: 0.4090\n",
      "Epoch 53/100\n",
      "37758/37758 [==============================] - 21s 554us/step - loss: 1.3285 - accuracy: 0.4140 - val_loss: 1.3324 - val_accuracy: 0.4258\n",
      "Epoch 54/100\n",
      "37758/37758 [==============================] - 15s 405us/step - loss: 1.3197 - accuracy: 0.4205 - val_loss: 1.3702 - val_accuracy: 0.3957\n"
     ]
    },
    {
     "name": "stdout",
     "output_type": "stream",
     "text": [
      "Epoch 55/100\n",
      "37758/37758 [==============================] - 15s 386us/step - loss: 1.3177 - accuracy: 0.4251 - val_loss: 1.3092 - val_accuracy: 0.4208\n",
      "Epoch 56/100\n",
      "37758/37758 [==============================] - 15s 386us/step - loss: 1.3054 - accuracy: 0.4302 - val_loss: 1.3638 - val_accuracy: 0.4173\n",
      "Epoch 57/100\n",
      "37758/37758 [==============================] - 15s 397us/step - loss: 1.3268 - accuracy: 0.4272 - val_loss: 1.3459 - val_accuracy: 0.4057\n",
      "Epoch 58/100\n",
      "37758/37758 [==============================] - 16s 421us/step - loss: 1.3013 - accuracy: 0.4326 - val_loss: 1.2538 - val_accuracy: 0.4880\n",
      "Epoch 59/100\n",
      "37758/37758 [==============================] - 14s 372us/step - loss: 1.3120 - accuracy: 0.4375 - val_loss: 1.3363 - val_accuracy: 0.3889\n",
      "Epoch 60/100\n",
      "37758/37758 [==============================] - 16s 417us/step - loss: 1.2938 - accuracy: 0.4432 - val_loss: 1.3284 - val_accuracy: 0.4171\n",
      "Epoch 61/100\n",
      "37758/37758 [==============================] - 14s 368us/step - loss: 1.2661 - accuracy: 0.4559 - val_loss: 1.2487 - val_accuracy: 0.4843\n",
      "Epoch 62/100\n",
      "37758/37758 [==============================] - 13s 332us/step - loss: 1.3178 - accuracy: 0.4427 - val_loss: 1.2996 - val_accuracy: 0.4216\n",
      "Epoch 63/100\n",
      "37758/37758 [==============================] - 13s 333us/step - loss: 1.2532 - accuracy: 0.4752 - val_loss: 1.4293 - val_accuracy: 0.3174\n",
      "Epoch 64/100\n",
      "37758/37758 [==============================] - 17s 449us/step - loss: 1.2227 - accuracy: 0.4951 - val_loss: 1.1864 - val_accuracy: 0.5661\n",
      "Epoch 65/100\n",
      "37758/37758 [==============================] - 15s 397us/step - loss: 1.2213 - accuracy: 0.4916 - val_loss: 1.1956 - val_accuracy: 0.4937\n",
      "Epoch 66/100\n",
      "37758/37758 [==============================] - 16s 415us/step - loss: 1.2387 - accuracy: 0.4867 - val_loss: 1.1964 - val_accuracy: 0.5069\n",
      "Epoch 67/100\n",
      "37758/37758 [==============================] - 14s 358us/step - loss: 1.1775 - accuracy: 0.5222 - val_loss: 1.1551 - val_accuracy: 0.5207\n",
      "Epoch 68/100\n",
      "37758/37758 [==============================] - 15s 386us/step - loss: 1.2047 - accuracy: 0.5033 - val_loss: 1.1929 - val_accuracy: 0.49951.2020 - ac\n",
      "Epoch 69/100\n",
      "37758/37758 [==============================] - 15s 395us/step - loss: 1.1985 - accuracy: 0.5026 - val_loss: 1.1475 - val_accuracy: 0.5603\n",
      "Epoch 70/100\n",
      "37758/37758 [==============================] - 18s 477us/step - loss: 1.1842 - accuracy: 0.5091 - val_loss: 1.1575 - val_accuracy: 0.5246\n",
      "Epoch 71/100\n",
      "37758/37758 [==============================] - 18s 465us/step - loss: 1.1962 - accuracy: 0.5171 - val_loss: 1.1695 - val_accuracy: 0.5144\n",
      "Epoch 72/100\n",
      "37758/37758 [==============================] - 17s 447us/step - loss: 1.1664 - accuracy: 0.5235 - val_loss: 1.1150 - val_accuracy: 0.5685\n",
      "Epoch 73/100\n",
      "37758/37758 [==============================] - 15s 409us/step - loss: 1.1812 - accuracy: 0.5189 - val_loss: 1.1476 - val_accuracy: 0.5583\n",
      "Epoch 74/100\n",
      "37758/37758 [==============================] - 15s 398us/step - loss: 1.1624 - accuracy: 0.5234 - val_loss: 1.2336 - val_accuracy: 0.4728\n",
      "Epoch 75/100\n",
      "37758/37758 [==============================] - 17s 447us/step - loss: 1.1705 - accuracy: 0.5241 - val_loss: 1.1596 - val_accuracy: 0.5267\n",
      "Epoch 76/100\n",
      "37758/37758 [==============================] - 16s 430us/step - loss: 1.1616 - accuracy: 0.5349 - val_loss: 1.1591 - val_accuracy: 0.5300\n",
      "Epoch 77/100\n",
      "37758/37758 [==============================] - 17s 457us/step - loss: 1.1256 - accuracy: 0.5523 - val_loss: 1.1133 - val_accuracy: 0.5552\n",
      "Epoch 78/100\n",
      "37758/37758 [==============================] - 16s 429us/step - loss: 1.1602 - accuracy: 0.5300 - val_loss: 1.1212 - val_accuracy: 0.5666\n",
      "Epoch 79/100\n",
      "37758/37758 [==============================] - 17s 457us/step - loss: 1.1324 - accuracy: 0.5429 - val_loss: 1.1020 - val_accuracy: 0.5709\n",
      "Epoch 80/100\n",
      "37758/37758 [==============================] - 15s 407us/step - loss: 1.1500 - accuracy: 0.5388 - val_loss: 1.1080 - val_accuracy: 0.5711\n",
      "Epoch 81/100\n",
      "37758/37758 [==============================] - 19s 496us/step - loss: 1.1485 - accuracy: 0.5336 - val_loss: 1.1541 - val_accuracy: 0.5242\n",
      "Epoch 82/100\n",
      "37758/37758 [==============================] - 24s 634us/step - loss: 1.1320 - accuracy: 0.5457 - val_loss: 1.1688 - val_accuracy: 0.5131\n",
      "Epoch 83/100\n",
      "37758/37758 [==============================] - 18s 476us/step - loss: 1.1401 - accuracy: 0.5414 - val_loss: 1.1114 - val_accuracy: 0.5635\n",
      "Epoch 84/100\n",
      "37758/37758 [==============================] - 17s 443us/step - loss: 1.1419 - accuracy: 0.5403 - val_loss: 1.1387 - val_accuracy: 0.5498\n",
      "Epoch 85/100\n",
      "37758/37758 [==============================] - 18s 485us/step - loss: 1.1194 - accuracy: 0.5534 - val_loss: 1.1327 - val_accuracy: 0.5477\n",
      "Epoch 86/100\n",
      "37758/37758 [==============================] - 16s 420us/step - loss: 1.1263 - accuracy: 0.5481 - val_loss: 1.1259 - val_accuracy: 0.5472\n",
      "Epoch 87/100\n",
      "37758/37758 [==============================] - 17s 449us/step - loss: 1.1284 - accuracy: 0.5472 - val_loss: 1.0922 - val_accuracy: 0.5830\n",
      "Epoch 88/100\n",
      "37758/37758 [==============================] - 18s 474us/step - loss: 1.1226 - accuracy: 0.5515 - val_loss: 1.1075 - val_accuracy: 0.5628\n",
      "Epoch 89/100\n",
      "37758/37758 [==============================] - 17s 449us/step - loss: 1.1250 - accuracy: 0.5452 - val_loss: 1.0888 - val_accuracy: 0.5803\n",
      "Epoch 90/100\n",
      "37758/37758 [==============================] - 17s 451us/step - loss: 1.1173 - accuracy: 0.5530 - val_loss: 1.1699 - val_accuracy: 0.5182\n",
      "Epoch 91/100\n",
      "37758/37758 [==============================] - 17s 449us/step - loss: 1.1076 - accuracy: 0.5574 - val_loss: 1.1422 - val_accuracy: 0.5391\n",
      "Epoch 92/100\n",
      "37758/37758 [==============================] - 18s 470us/step - loss: 1.1119 - accuracy: 0.5556 - val_loss: 1.1049 - val_accuracy: 0.5591\n",
      "Epoch 93/100\n",
      "37758/37758 [==============================] - 16s 423us/step - loss: 1.1183 - accuracy: 0.5487 - val_loss: 1.1525 - val_accuracy: 0.52811.1198 - ac - ETA: 2s - l\n",
      "Epoch 94/100\n",
      "37758/37758 [==============================] - 16s 417us/step - loss: 1.1026 - accuracy: 0.5635 - val_loss: 1.1320 - val_accuracy: 0.5423\n",
      "Epoch 95/100\n",
      "37758/37758 [==============================] - 15s 398us/step - loss: 1.0971 - accuracy: 0.5646 - val_loss: 1.0791 - val_accuracy: 0.5807\n",
      "Epoch 96/100\n",
      "37758/37758 [==============================] - 19s 493us/step - loss: 1.1377 - accuracy: 0.5373 - val_loss: 1.1065 - val_accuracy: 0.5642\n",
      "Epoch 97/100\n",
      "37758/37758 [==============================] - 16s 426us/step - loss: 1.1298 - accuracy: 0.5459 - val_loss: 1.0932 - val_accuracy: 0.5775\n",
      "Epoch 98/100\n",
      "37758/37758 [==============================] - 17s 449us/step - loss: 1.1232 - accuracy: 0.5474 - val_loss: 1.1104 - val_accuracy: 0.5597\n",
      "Epoch 99/100\n",
      "37758/37758 [==============================] - 18s 470us/step - loss: 1.1137 - accuracy: 0.5552 - val_loss: 1.3134 - val_accuracy: 0.4349\n",
      "Epoch 100/100\n",
      "37758/37758 [==============================] - 15s 402us/step - loss: 1.1169 - accuracy: 0.5526 - val_loss: 1.0799 - val_accuracy: 0.5812\n"
     ]
    }
   ],
   "source": [
    "history = model.fit(train_data, train_label, epochs = 100,batch_size = 512, validation_data = (valid_data,valid_label))"
   ]
  },
  {
   "cell_type": "code",
   "execution_count": null,
   "metadata": {},
   "outputs": [],
   "source": []
  },
  {
   "cell_type": "code",
   "execution_count": 15,
   "metadata": {},
   "outputs": [],
   "source": [
    "import matplotlib.pylab as plt"
   ]
  },
  {
   "cell_type": "code",
   "execution_count": 17,
   "metadata": {},
   "outputs": [
    {
     "data": {
      "text/plain": [
       "<matplotlib.legend.Legend at 0x19fbb1d8e10>"
      ]
     },
     "execution_count": 17,
     "metadata": {},
     "output_type": "execute_result"
    },
    {
     "data": {
      "image/png": "[encoded data removed]",
      "text/plain": [
       "<Figure size 432x288 with 1 Axes>"
      ]
     },
     "metadata": {
      "needs_background": "light"
     },
     "output_type": "display_data"
    }
   ],
   "source": [
    "acc = history.history[\"accuracy\"]\n",
    "val_acc = history.history[\"val_accuracy\"]\n",
    "epochs = len(acc) + 1\n",
    "plt.plot(acc,range(1,epochs),\"bo\",label = \"Training Accuracy\")\n",
    "plt.plot(val_acc,range(1,epochs),\"b\",label = \"Validation Accuracy\")\n",
    "plt.xlabel(\"EPOCHs\")\n",
    "plt.ylabel(\"ACCURACY\")\n",
    "plt.legend()"
   ]
  },
  {
   "cell_type": "code",
   "execution_count": 18,
   "metadata": {},
   "outputs": [
    {
     "data": {
      "text/plain": [
       "<matplotlib.legend.Legend at 0x19fbb249f28>"
      ]
     },
     "execution_count": 18,
     "metadata": {},
     "output_type": "execute_result"
    },
    {
     "data": {
      "image/png": "[encoded data removed]",
      "text/plain": [
       "<Figure size 432x288 with 1 Axes>"
      ]
     },
     "metadata": {
      "needs_background": "light"
     },
     "output_type": "display_data"
    }
   ],
   "source": [
    "loss = history.history[\"loss\"]\n",
    "val_loss = history.history[\"val_loss\"]\n",
    "epochs = len(loss) + 1\n",
    "plt.plot(loss,range(1,epochs),\"bo\",label = \"Training Loss\")\n",
    "plt.plot(val_loss,range(1,epochs),\"b\",label = \"Validation Loss\")\n",
    "plt.xlabel(\"EPOCHs\")\n",
    "plt.ylabel(\"LOSS\")\n",
    "plt.legend()"
   ]
  }
 ],
 "metadata": {
  "kernelspec": {
   "display_name": "Python 3",
   "language": "python",
   "name": "python3"
  },
  "language_info": {
   "codemirror_mode": {
    "name": "ipython",
    "version": 3
   },
   "file_extension": ".py",
   "mimetype": "text/x-python",
   "name": "python",
   "nbconvert_exporter": "python",
   "pygments_lexer": "ipython3",
   "version": "3.7.3"
  }
 },
 "nbformat": 4,
 "nbformat_minor": 2
}
