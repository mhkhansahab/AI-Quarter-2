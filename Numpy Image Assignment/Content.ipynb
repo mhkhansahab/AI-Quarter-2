{
 "cells": [
  {
   "cell_type": "code",
   "execution_count": 1,
   "metadata": {},
   "outputs": [],
   "source": [
    "import numpy as np\n",
    "from PIL import Image\n",
    "import os"
   ]
  },
  {
   "cell_type": "code",
   "execution_count": 2,
   "metadata": {},
   "outputs": [],
   "source": [
    "from random import shuffle\n",
    "from glob import glob\n",
    "files = glob(r\"C:\\\\Users\\\\Hamza Khan\\\\Desktop\\\\Train Images\\\\*.png\")"
   ]
  },
  {
   "cell_type": "code",
   "execution_count": 4,
   "metadata": {
    "scrolled": true
   },
   "outputs": [
    {
     "name": "stdout",
     "output_type": "stream",
     "text": [
      "Found Directory C:\\\\Users\\\\Hamza Khan\\\\Desktop\\\\Train Images\\\\\n"
     ]
    }
   ],
   "source": [
    "rootDir = r\"C:\\\\Users\\\\Hamza Khan\\\\Desktop\\\\Train Images\\\\\"\n",
    "train_idx = 0\n",
    "\n",
    "for dirName,subdirList,fileList in os.walk(rootDir):\n",
    "    print(\"Found Directory %s\" %dirName)\n",
    "size = (300, 300)\n",
    "add = r\"F:\\PIAIC Work(2nd)\\Numpy Image Assignment\\Train Images\\\\\""
   ]
  },
  {
   "cell_type": "code",
   "execution_count": 5,
   "metadata": {},
   "outputs": [],
   "source": [
    "for fname in fileList:\n",
    "    img = Image.open(rootDir+fname)\n",
    "    img2 = img.resize(size)\n",
    "    img2.save(add + fileList[train_idx], \"JPEG\")\n",
    "    train_idx += 1"
   ]
  },
  {
   "cell_type": "code",
   "execution_count": 6,
   "metadata": {},
   "outputs": [
    {
     "name": "stdout",
     "output_type": "stream",
     "text": [
      "Found Directory C:\\\\Users\\\\Hamza Khan\\\\Desktop\\\\Test Images\\\\\n"
     ]
    }
   ],
   "source": [
    "rootDir = r\"C:\\\\Users\\\\Hamza Khan\\\\Desktop\\\\Test Images\\\\\"\n",
    "test_idx = 0\n",
    "\n",
    "for dirName,subdirList,fileList in os.walk(rootDir):\n",
    "    print(\"Found Directory %s\" %dirName)\n",
    "size = (300, 300)\n",
    "add = r\"F:\\PIAIC Work(2nd)\\Numpy Image Assignment\\Test Images\\\\\""
   ]
  },
  {
   "cell_type": "code",
   "execution_count": 7,
   "metadata": {},
   "outputs": [],
   "source": [
    "for fname in fileList:\n",
    "    img = Image.open(rootDir+fname)\n",
    "    img2 = img.resize(size)\n",
    "    img2.save(add + fileList[test_idx], \"JPEG\")\n",
    "    test_idx = test_idx + 1"
   ]
  },
  {
   "cell_type": "code",
   "execution_count": null,
   "metadata": {},
   "outputs": [],
   "source": []
  },
  {
   "cell_type": "code",
   "execution_count": null,
   "metadata": {},
   "outputs": [],
   "source": []
  },
  {
   "cell_type": "code",
   "execution_count": 25,
   "metadata": {},
   "outputs": [],
   "source": [
    "first = Image.open(r\"C:\\Users\\Hamza Khan\\Desktop\")"
   ]
  },
  {
   "cell_type": "code",
   "execution_count": 26,
   "metadata": {},
   "outputs": [],
   "source": [
    "second = first.resize((500,500))"
   ]
  },
  {
   "cell_type": "code",
   "execution_count": 27,
   "metadata": {},
   "outputs": [],
   "source": [
    "new_second = np.asarray(second)"
   ]
  },
  {
   "cell_type": "code",
   "execution_count": 30,
   "metadata": {},
   "outputs": [],
   "source": [
    "latest = Image.fromarray(new_second)"
   ]
  },
  {
   "cell_type": "code",
   "execution_count": null,
   "metadata": {},
   "outputs": [],
   "source": []
  }
 ],
 "metadata": {
  "kernelspec": {
   "display_name": "Python 3",
   "language": "python",
   "name": "python3"
  },
  "language_info": {
   "codemirror_mode": {
    "name": "ipython",
    "version": 3
   },
   "file_extension": ".py",
   "mimetype": "text/x-python",
   "name": "python",
   "nbconvert_exporter": "python",
   "pygments_lexer": "ipython3",
   "version": "3.7.3"
  }
 },
 "nbformat": 4,
 "nbformat_minor": 2
}
